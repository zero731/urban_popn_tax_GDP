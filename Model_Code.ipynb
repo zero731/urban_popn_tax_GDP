{
 "cells": [
  {
   "cell_type": "markdown",
   "metadata": {},
   "source": [
    "# Model_Code\n",
    "By Max Steele"
   ]
  },
  {
   "cell_type": "code",
   "execution_count": 1,
   "metadata": {
    "ExecuteTime": {
     "end_time": "2021-04-11T00:47:39.298982Z",
     "start_time": "2021-04-11T00:47:37.990698Z"
    }
   },
   "outputs": [],
   "source": [
    "## Import libraries\n",
    "import numpy as np\n",
    "import pandas as pd\n",
    "import matplotlib.pyplot as plt\n",
    "%matplotlib inline\n",
    "import seaborn as sns\n",
    "from scipy import stats"
   ]
  },
  {
   "cell_type": "markdown",
   "metadata": {},
   "source": [
    "## Custom Functions for Analysis"
   ]
  },
  {
   "cell_type": "code",
   "execution_count": 2,
   "metadata": {
    "ExecuteTime": {
     "end_time": "2021-04-11T00:47:39.307250Z",
     "start_time": "2021-04-11T00:47:39.301530Z"
    }
   },
   "outputs": [],
   "source": [
    "def col_summary(df, col, dropna=False):\n",
    "    \n",
    "    \"\"\"Takes in a Pandas DataFrame and specific column name. \n",
    "    Prints the number of unique values in the column and displays\n",
    "    a DataFrame with the 5 most common and 5 least common values\n",
    "    in that column as well as the count of each value. \n",
    "    Default is to also provide a count of NaN values.\n",
    "    \"\"\"\n",
    "    \n",
    "    pd.options.display.max_rows = 10\n",
    "    \n",
    "    print('***'*10)\n",
    "    print(f\"Summary of {col}\")\n",
    "    print('***'*10)\n",
    "    print(f\"Total unique values: {df[col].nunique()}\")\n",
    "    \n",
    "    unique_vals = pd.DataFrame()\n",
    "    unique_vals['count'] = pd.Series(df[col].value_counts(dropna=dropna))\n",
    "    display(unique_vals)"
   ]
  },
  {
   "cell_type": "code",
   "execution_count": 3,
   "metadata": {
    "ExecuteTime": {
     "end_time": "2021-04-11T00:47:39.315650Z",
     "start_time": "2021-04-11T00:47:39.310909Z"
    }
   },
   "outputs": [],
   "source": [
    "def z_outliers(df, col, cutoff=3, verbose=True):\n",
    "    \n",
    "    \"\"\"Takes in a DataFrame and column name to calculate the\n",
    "    absolute value of the z-score for each observation. \n",
    "    Returns a Series with the same index as the data with True \n",
    "    if the observation is an outlier (defined as having a z-score \n",
    "    of 3 standard deviations [default] from the mean) or False if\n",
    "    the observation is not an outlier.\n",
    "    \"\"\"\n",
    "    \n",
    "    z_scores = np.abs(stats.zscore(df[col]))\n",
    "    z_scores = pd.Series(z_scores, index=df[col].index)\n",
    "    idx_outliers = z_scores > cutoff\n",
    "    \n",
    "    if verbose:\n",
    "        print('Z-score method found {} outliers.'.format(idx_outliers.sum()))\n",
    "    \n",
    "    return idx_outliers"
   ]
  },
  {
   "cell_type": "code",
   "execution_count": 4,
   "metadata": {
    "ExecuteTime": {
     "end_time": "2021-04-11T00:47:39.323945Z",
     "start_time": "2021-04-11T00:47:39.319351Z"
    }
   },
   "outputs": [],
   "source": [
    "def build_ols(df, target, predictor):\n",
    "    \n",
    "    \"\"\"Takes in a DataFrame and column names of the target variable and predictor.\n",
    "    Returns a Statsmodels OLS regression model.\n",
    "    \"\"\"\n",
    "    \n",
    "    formula = target + '~' + predictor\n",
    "    model = ols(formula=formula, data=df).fit()\n",
    "    \n",
    "    return model"
   ]
  },
  {
   "cell_type": "code",
   "execution_count": 5,
   "metadata": {
    "ExecuteTime": {
     "end_time": "2021-04-11T00:47:39.334846Z",
     "start_time": "2021-04-11T00:47:39.326627Z"
    }
   },
   "outputs": [],
   "source": [
    "def check_ols_assumptions(model, df, target):\n",
    "    \n",
    "    \"\"\"Takes in a Statsmodel OLS regression model, \n",
    "    the DataFrame from which that model was generated,\n",
    "    and the target variable of that model as a string.\n",
    "    Returns a Q-Q plot of the residuals and a plot of the residuals\n",
    "    against the target variable to vizualize homoscedasticity of model errors.\n",
    "    \"\"\"\n",
    "    \n",
    "    fig, ax = plt.subplots(ncols=2,figsize=(14,5))\n",
    "    ax1 = ax[0]\n",
    "    ax2 = ax[1]\n",
    "\n",
    "    sm.graphics.qqplot(model.resid, fit=True, line='45', ax=ax1, color='b')\n",
    "    ax1.set_title('Q-Q Plot of Model Residuals', weight='bold', fontsize='x-large')\n",
    "    ax1.set_xlabel(ax1.get_xlabel(), weight='bold', fontsize='large')\n",
    "    ax1.set_ylabel(ax1.get_ylabel(), weight='bold', fontsize='large')\n",
    "\n",
    "    sns.scatterplot(x=model.fittedvalues, y=model.resid, ax=ax2, color='b')\n",
    "    ax2.axhline(y=0, color='r')\n",
    "    ax2.set_title('Homoscedasticity of Model Residuals', weight='bold', fontsize='x-large')\n",
    "    ax2.set_xlabel('Fitted Value', weight='bold', fontsize='large')\n",
    "    ax2.set_ylabel('Residual Value', weight='bold', fontsize='large')"
   ]
  },
  {
   "cell_type": "markdown",
   "metadata": {},
   "source": [
    "## Obtain Initial Datasets"
   ]
  },
  {
   "cell_type": "code",
   "execution_count": 6,
   "metadata": {
    "ExecuteTime": {
     "end_time": "2021-04-11T00:47:39.368953Z",
     "start_time": "2021-04-11T00:47:39.337869Z"
    }
   },
   "outputs": [],
   "source": [
    "## Read in data files\n",
    "popn_df = pd.read_csv('share-of-population-urban.csv')\n",
    "gdp_df = pd.read_csv('taxes-on-incomes-of-individuals-and-corporations-gdp.csv')"
   ]
  },
  {
   "cell_type": "code",
   "execution_count": 7,
   "metadata": {
    "ExecuteTime": {
     "end_time": "2021-04-11T00:47:39.395565Z",
     "start_time": "2021-04-11T00:47:39.371323Z"
    }
   },
   "outputs": [
    {
     "data": {
      "text/html": [
       "<div>\n",
       "<style scoped>\n",
       "    .dataframe tbody tr th:only-of-type {\n",
       "        vertical-align: middle;\n",
       "    }\n",
       "\n",
       "    .dataframe tbody tr th {\n",
       "        vertical-align: top;\n",
       "    }\n",
       "\n",
       "    .dataframe thead th {\n",
       "        text-align: right;\n",
       "    }\n",
       "</style>\n",
       "<table border=\"1\" class=\"dataframe\">\n",
       "  <thead>\n",
       "    <tr style=\"text-align: right;\">\n",
       "      <th></th>\n",
       "      <th>Entity</th>\n",
       "      <th>Code</th>\n",
       "      <th>Year</th>\n",
       "      <th>Urban_Population</th>\n",
       "    </tr>\n",
       "  </thead>\n",
       "  <tbody>\n",
       "    <tr>\n",
       "      <th>0</th>\n",
       "      <td>Afghanistan</td>\n",
       "      <td>AFG</td>\n",
       "      <td>1960</td>\n",
       "      <td>8.401</td>\n",
       "    </tr>\n",
       "    <tr>\n",
       "      <th>1</th>\n",
       "      <td>Afghanistan</td>\n",
       "      <td>AFG</td>\n",
       "      <td>1961</td>\n",
       "      <td>8.684</td>\n",
       "    </tr>\n",
       "    <tr>\n",
       "      <th>2</th>\n",
       "      <td>Afghanistan</td>\n",
       "      <td>AFG</td>\n",
       "      <td>1962</td>\n",
       "      <td>8.976</td>\n",
       "    </tr>\n",
       "    <tr>\n",
       "      <th>3</th>\n",
       "      <td>Afghanistan</td>\n",
       "      <td>AFG</td>\n",
       "      <td>1963</td>\n",
       "      <td>9.276</td>\n",
       "    </tr>\n",
       "    <tr>\n",
       "      <th>4</th>\n",
       "      <td>Afghanistan</td>\n",
       "      <td>AFG</td>\n",
       "      <td>1964</td>\n",
       "      <td>9.586</td>\n",
       "    </tr>\n",
       "  </tbody>\n",
       "</table>\n",
       "</div>"
      ],
      "text/plain": [
       "        Entity Code  Year Urban_Population\n",
       "0  Afghanistan  AFG  1960            8.401\n",
       "1  Afghanistan  AFG  1961            8.684\n",
       "2  Afghanistan  AFG  1962            8.976\n",
       "3  Afghanistan  AFG  1963            9.276\n",
       "4  Afghanistan  AFG  1964            9.586"
      ]
     },
     "metadata": {},
     "output_type": "display_data"
    },
    {
     "data": {
      "text/html": [
       "<div>\n",
       "<style scoped>\n",
       "    .dataframe tbody tr th:only-of-type {\n",
       "        vertical-align: middle;\n",
       "    }\n",
       "\n",
       "    .dataframe tbody tr th {\n",
       "        vertical-align: top;\n",
       "    }\n",
       "\n",
       "    .dataframe thead th {\n",
       "        text-align: right;\n",
       "    }\n",
       "</style>\n",
       "<table border=\"1\" class=\"dataframe\">\n",
       "  <thead>\n",
       "    <tr style=\"text-align: right;\">\n",
       "      <th></th>\n",
       "      <th>Entity</th>\n",
       "      <th>Code</th>\n",
       "      <th>Year</th>\n",
       "      <th>Tax_Percent_GDP</th>\n",
       "    </tr>\n",
       "  </thead>\n",
       "  <tbody>\n",
       "    <tr>\n",
       "      <th>0</th>\n",
       "      <td>Afghanistan</td>\n",
       "      <td>AFG</td>\n",
       "      <td>2003</td>\n",
       "      <td>0.165953</td>\n",
       "    </tr>\n",
       "    <tr>\n",
       "      <th>1</th>\n",
       "      <td>Afghanistan</td>\n",
       "      <td>AFG</td>\n",
       "      <td>2004</td>\n",
       "      <td>0.411647</td>\n",
       "    </tr>\n",
       "    <tr>\n",
       "      <th>2</th>\n",
       "      <td>Afghanistan</td>\n",
       "      <td>AFG</td>\n",
       "      <td>2005</td>\n",
       "      <td>0.320864</td>\n",
       "    </tr>\n",
       "    <tr>\n",
       "      <th>3</th>\n",
       "      <td>Afghanistan</td>\n",
       "      <td>AFG</td>\n",
       "      <td>2006</td>\n",
       "      <td>1.261181</td>\n",
       "    </tr>\n",
       "    <tr>\n",
       "      <th>4</th>\n",
       "      <td>Afghanistan</td>\n",
       "      <td>AFG</td>\n",
       "      <td>2007</td>\n",
       "      <td>1.323461</td>\n",
       "    </tr>\n",
       "  </tbody>\n",
       "</table>\n",
       "</div>"
      ],
      "text/plain": [
       "        Entity Code  Year  Tax_Percent_GDP\n",
       "0  Afghanistan  AFG  2003         0.165953\n",
       "1  Afghanistan  AFG  2004         0.411647\n",
       "2  Afghanistan  AFG  2005         0.320864\n",
       "3  Afghanistan  AFG  2006         1.261181\n",
       "4  Afghanistan  AFG  2007         1.323461"
      ]
     },
     "execution_count": 7,
     "metadata": {},
     "output_type": "execute_result"
    }
   ],
   "source": [
    "## Inspect first 5 rows of each df\n",
    "display(popn_df.head())\n",
    "gdp_df.head()"
   ]
  },
  {
   "cell_type": "markdown",
   "metadata": {},
   "source": [
    "# Scrub and Explore Initial Datasets"
   ]
  },
  {
   "cell_type": "markdown",
   "metadata": {},
   "source": [
    "## Initial Exploration of Population Dataset"
   ]
  },
  {
   "cell_type": "markdown",
   "metadata": {},
   "source": [
    "The urban population dataset only has null values in the `Code` column. This likely shouldn't be an issue and I'll look to join the two DataFrames on `Entity` and then `Year` after further investigation.\n",
    "\n",
    "<br> \n",
    "The data types for each column make sense for the information they contain, except in the case of `Urban_Population`. This column reports the percentage of the total population that lives in urban areas, and thus should be a float. However, it is an object dtype. This will need to be converted to a numeric data type to enable regression analysis of the effect of `Urban_Population` on `Tax_Percent_GDP`. \n",
    "- Attempting to recast this column as type 'float64' produced the following error: \n",
    "```ValueError: could not convert string to float: '88%'```\n",
    "- Removing '%'s from values in this column solved the issue.\n",
    "\n",
    "<br> \n",
    "The `Entity` column of the population dataset includes some completely nonsensical values (e.g., \"43hj43\"), as well as values that are not countries (e.g., \"OECD members\" and \"Upper middle income\"). These values may not appear in the GDP dataset and would thus be dropped through an inner join on `Entity`. This will require further investigation once the files have been merged."
   ]
  },
  {
   "cell_type": "code",
   "execution_count": 8,
   "metadata": {
    "ExecuteTime": {
     "end_time": "2021-04-11T00:47:39.413004Z",
     "start_time": "2021-04-11T00:47:39.399686Z"
    },
    "scrolled": true
   },
   "outputs": [
    {
     "name": "stdout",
     "output_type": "stream",
     "text": [
      "<class 'pandas.core.frame.DataFrame'>\n",
      "RangeIndex: 15072 entries, 0 to 15071\n",
      "Data columns (total 4 columns):\n",
      " #   Column            Non-Null Count  Dtype \n",
      "---  ------            --------------  ----- \n",
      " 0   Entity            15072 non-null  object\n",
      " 1   Code              12404 non-null  object\n",
      " 2   Year              15072 non-null  int64 \n",
      " 3   Urban_Population  15072 non-null  object\n",
      "dtypes: int64(1), object(3)\n",
      "memory usage: 471.1+ KB\n"
     ]
    }
   ],
   "source": [
    "## Metadata for urban population dataset\n",
    "popn_df.info()"
   ]
  },
  {
   "cell_type": "code",
   "execution_count": 9,
   "metadata": {
    "ExecuteTime": {
     "end_time": "2021-04-11T00:47:39.445109Z",
     "start_time": "2021-04-11T00:47:39.416630Z"
    }
   },
   "outputs": [],
   "source": [
    "## Recast Urban_Population as a float\n",
    "popn_df['Urban_Population'] = popn_df['Urban_Population'].str.replace('%','').astype('float64')"
   ]
  },
  {
   "cell_type": "code",
   "execution_count": 10,
   "metadata": {
    "ExecuteTime": {
     "end_time": "2021-04-11T00:47:39.477976Z",
     "start_time": "2021-04-11T00:47:39.447675Z"
    }
   },
   "outputs": [
    {
     "data": {
      "text/html": [
       "<div>\n",
       "<style scoped>\n",
       "    .dataframe tbody tr th:only-of-type {\n",
       "        vertical-align: middle;\n",
       "    }\n",
       "\n",
       "    .dataframe tbody tr th {\n",
       "        vertical-align: top;\n",
       "    }\n",
       "\n",
       "    .dataframe thead th {\n",
       "        text-align: right;\n",
       "    }\n",
       "</style>\n",
       "<table border=\"1\" class=\"dataframe\">\n",
       "  <thead>\n",
       "    <tr style=\"text-align: right;\">\n",
       "      <th></th>\n",
       "      <th>Year</th>\n",
       "      <th>Urban_Population</th>\n",
       "    </tr>\n",
       "  </thead>\n",
       "  <tbody>\n",
       "    <tr>\n",
       "      <th>count</th>\n",
       "      <td>15072.000000</td>\n",
       "      <td>15072.000000</td>\n",
       "    </tr>\n",
       "    <tr>\n",
       "      <th>mean</th>\n",
       "      <td>1988.545382</td>\n",
       "      <td>49.525735</td>\n",
       "    </tr>\n",
       "    <tr>\n",
       "      <th>std</th>\n",
       "      <td>16.737532</td>\n",
       "      <td>24.818031</td>\n",
       "    </tr>\n",
       "    <tr>\n",
       "      <th>min</th>\n",
       "      <td>1960.000000</td>\n",
       "      <td>2.077000</td>\n",
       "    </tr>\n",
       "    <tr>\n",
       "      <th>25%</th>\n",
       "      <td>1974.000000</td>\n",
       "      <td>29.180000</td>\n",
       "    </tr>\n",
       "    <tr>\n",
       "      <th>50%</th>\n",
       "      <td>1989.000000</td>\n",
       "      <td>47.782500</td>\n",
       "    </tr>\n",
       "    <tr>\n",
       "      <th>75%</th>\n",
       "      <td>2003.000000</td>\n",
       "      <td>68.870750</td>\n",
       "    </tr>\n",
       "    <tr>\n",
       "      <th>max</th>\n",
       "      <td>2017.000000</td>\n",
       "      <td>100.000000</td>\n",
       "    </tr>\n",
       "  </tbody>\n",
       "</table>\n",
       "</div>"
      ],
      "text/plain": [
       "               Year  Urban_Population\n",
       "count  15072.000000      15072.000000\n",
       "mean    1988.545382         49.525735\n",
       "std       16.737532         24.818031\n",
       "min     1960.000000          2.077000\n",
       "25%     1974.000000         29.180000\n",
       "50%     1989.000000         47.782500\n",
       "75%     2003.000000         68.870750\n",
       "max     2017.000000        100.000000"
      ]
     },
     "execution_count": 10,
     "metadata": {},
     "output_type": "execute_result"
    }
   ],
   "source": [
    "## Summary statistics of the numeric columns of popn_df\n",
    "popn_df.describe()"
   ]
  },
  {
   "cell_type": "code",
   "execution_count": 11,
   "metadata": {
    "ExecuteTime": {
     "end_time": "2021-04-11T00:47:39.567150Z",
     "start_time": "2021-04-11T00:47:39.480434Z"
    },
    "scrolled": false
   },
   "outputs": [
    {
     "name": "stdout",
     "output_type": "stream",
     "text": [
      "******************************\n",
      "Summary of Entity\n",
      "******************************\n",
      "Total unique values: 270\n"
     ]
    },
    {
     "data": {
      "text/html": [
       "<div>\n",
       "<style scoped>\n",
       "    .dataframe tbody tr th:only-of-type {\n",
       "        vertical-align: middle;\n",
       "    }\n",
       "\n",
       "    .dataframe tbody tr th {\n",
       "        vertical-align: top;\n",
       "    }\n",
       "\n",
       "    .dataframe thead th {\n",
       "        text-align: right;\n",
       "    }\n",
       "</style>\n",
       "<table border=\"1\" class=\"dataframe\">\n",
       "  <thead>\n",
       "    <tr style=\"text-align: right;\">\n",
       "      <th></th>\n",
       "      <th>count</th>\n",
       "    </tr>\n",
       "  </thead>\n",
       "  <tbody>\n",
       "    <tr>\n",
       "      <th>Niger</th>\n",
       "      <td>58</td>\n",
       "    </tr>\n",
       "    <tr>\n",
       "      <th>Puerto Rico</th>\n",
       "      <td>58</td>\n",
       "    </tr>\n",
       "    <tr>\n",
       "      <th>Iceland</th>\n",
       "      <td>58</td>\n",
       "    </tr>\n",
       "    <tr>\n",
       "      <th>South Asia (IDA &amp; IBRD)</th>\n",
       "      <td>58</td>\n",
       "    </tr>\n",
       "    <tr>\n",
       "      <th>Mongolia</th>\n",
       "      <td>58</td>\n",
       "    </tr>\n",
       "    <tr>\n",
       "      <th>...</th>\n",
       "      <td>...</td>\n",
       "    </tr>\n",
       "    <tr>\n",
       "      <th>ho4u3h</th>\n",
       "      <td>1</td>\n",
       "    </tr>\n",
       "    <tr>\n",
       "      <th>rehojher</th>\n",
       "      <td>1</td>\n",
       "    </tr>\n",
       "    <tr>\n",
       "      <th>43hj43</th>\n",
       "      <td>1</td>\n",
       "    </tr>\n",
       "    <tr>\n",
       "      <th>sjke</th>\n",
       "      <td>1</td>\n",
       "    </tr>\n",
       "    <tr>\n",
       "      <th>shrjehr</th>\n",
       "      <td>1</td>\n",
       "    </tr>\n",
       "  </tbody>\n",
       "</table>\n",
       "<p>270 rows × 1 columns</p>\n",
       "</div>"
      ],
      "text/plain": [
       "                         count\n",
       "Niger                       58\n",
       "Puerto Rico                 58\n",
       "Iceland                     58\n",
       "South Asia (IDA & IBRD)     58\n",
       "Mongolia                    58\n",
       "...                        ...\n",
       "ho4u3h                       1\n",
       "rehojher                     1\n",
       "43hj43                       1\n",
       "sjke                         1\n",
       "shrjehr                      1\n",
       "\n",
       "[270 rows x 1 columns]"
      ]
     },
     "metadata": {},
     "output_type": "display_data"
    },
    {
     "name": "stdout",
     "output_type": "stream",
     "text": [
      "---------------\n",
      "\n",
      "\n",
      "\n",
      "******************************\n",
      "Summary of Code\n",
      "******************************\n",
      "Total unique values: 215\n"
     ]
    },
    {
     "data": {
      "text/html": [
       "<div>\n",
       "<style scoped>\n",
       "    .dataframe tbody tr th:only-of-type {\n",
       "        vertical-align: middle;\n",
       "    }\n",
       "\n",
       "    .dataframe tbody tr th {\n",
       "        vertical-align: top;\n",
       "    }\n",
       "\n",
       "    .dataframe thead th {\n",
       "        text-align: right;\n",
       "    }\n",
       "</style>\n",
       "<table border=\"1\" class=\"dataframe\">\n",
       "  <thead>\n",
       "    <tr style=\"text-align: right;\">\n",
       "      <th></th>\n",
       "      <th>count</th>\n",
       "    </tr>\n",
       "  </thead>\n",
       "  <tbody>\n",
       "    <tr>\n",
       "      <th>NaN</th>\n",
       "      <td>2668</td>\n",
       "    </tr>\n",
       "    <tr>\n",
       "      <th>SMR</th>\n",
       "      <td>58</td>\n",
       "    </tr>\n",
       "    <tr>\n",
       "      <th>MKD</th>\n",
       "      <td>58</td>\n",
       "    </tr>\n",
       "    <tr>\n",
       "      <th>SLB</th>\n",
       "      <td>58</td>\n",
       "    </tr>\n",
       "    <tr>\n",
       "      <th>DOM</th>\n",
       "      <td>58</td>\n",
       "    </tr>\n",
       "    <tr>\n",
       "      <th>...</th>\n",
       "      <td>...</td>\n",
       "    </tr>\n",
       "    <tr>\n",
       "      <th>LCA</th>\n",
       "      <td>58</td>\n",
       "    </tr>\n",
       "    <tr>\n",
       "      <th>SUR</th>\n",
       "      <td>58</td>\n",
       "    </tr>\n",
       "    <tr>\n",
       "      <th>ERI</th>\n",
       "      <td>52</td>\n",
       "    </tr>\n",
       "    <tr>\n",
       "      <th>SRB</th>\n",
       "      <td>28</td>\n",
       "    </tr>\n",
       "    <tr>\n",
       "      <th>PSE</th>\n",
       "      <td>28</td>\n",
       "    </tr>\n",
       "  </tbody>\n",
       "</table>\n",
       "<p>216 rows × 1 columns</p>\n",
       "</div>"
      ],
      "text/plain": [
       "     count\n",
       "NaN   2668\n",
       "SMR     58\n",
       "MKD     58\n",
       "SLB     58\n",
       "DOM     58\n",
       "..     ...\n",
       "LCA     58\n",
       "SUR     58\n",
       "ERI     52\n",
       "SRB     28\n",
       "PSE     28\n",
       "\n",
       "[216 rows x 1 columns]"
      ]
     },
     "metadata": {},
     "output_type": "display_data"
    },
    {
     "name": "stdout",
     "output_type": "stream",
     "text": [
      "---------------\n",
      "\n",
      "\n",
      "\n",
      "******************************\n",
      "Summary of Year\n",
      "******************************\n",
      "Total unique values: 58\n"
     ]
    },
    {
     "data": {
      "text/html": [
       "<div>\n",
       "<style scoped>\n",
       "    .dataframe tbody tr th:only-of-type {\n",
       "        vertical-align: middle;\n",
       "    }\n",
       "\n",
       "    .dataframe tbody tr th {\n",
       "        vertical-align: top;\n",
       "    }\n",
       "\n",
       "    .dataframe thead th {\n",
       "        text-align: right;\n",
       "    }\n",
       "</style>\n",
       "<table border=\"1\" class=\"dataframe\">\n",
       "  <thead>\n",
       "    <tr style=\"text-align: right;\">\n",
       "      <th></th>\n",
       "      <th>count</th>\n",
       "    </tr>\n",
       "  </thead>\n",
       "  <tbody>\n",
       "    <tr>\n",
       "      <th>2003</th>\n",
       "      <td>261</td>\n",
       "    </tr>\n",
       "    <tr>\n",
       "      <th>2011</th>\n",
       "      <td>261</td>\n",
       "    </tr>\n",
       "    <tr>\n",
       "      <th>2004</th>\n",
       "      <td>261</td>\n",
       "    </tr>\n",
       "    <tr>\n",
       "      <th>2007</th>\n",
       "      <td>261</td>\n",
       "    </tr>\n",
       "    <tr>\n",
       "      <th>1995</th>\n",
       "      <td>261</td>\n",
       "    </tr>\n",
       "    <tr>\n",
       "      <th>...</th>\n",
       "      <td>...</td>\n",
       "    </tr>\n",
       "    <tr>\n",
       "      <th>1987</th>\n",
       "      <td>259</td>\n",
       "    </tr>\n",
       "    <tr>\n",
       "      <th>1965</th>\n",
       "      <td>259</td>\n",
       "    </tr>\n",
       "    <tr>\n",
       "      <th>1988</th>\n",
       "      <td>259</td>\n",
       "    </tr>\n",
       "    <tr>\n",
       "      <th>1964</th>\n",
       "      <td>259</td>\n",
       "    </tr>\n",
       "    <tr>\n",
       "      <th>1960</th>\n",
       "      <td>259</td>\n",
       "    </tr>\n",
       "  </tbody>\n",
       "</table>\n",
       "<p>58 rows × 1 columns</p>\n",
       "</div>"
      ],
      "text/plain": [
       "      count\n",
       "2003    261\n",
       "2011    261\n",
       "2004    261\n",
       "2007    261\n",
       "1995    261\n",
       "...     ...\n",
       "1987    259\n",
       "1965    259\n",
       "1988    259\n",
       "1964    259\n",
       "1960    259\n",
       "\n",
       "[58 rows x 1 columns]"
      ]
     },
     "metadata": {},
     "output_type": "display_data"
    },
    {
     "name": "stdout",
     "output_type": "stream",
     "text": [
      "---------------\n",
      "\n",
      "\n",
      "\n",
      "******************************\n",
      "Summary of Urban_Population\n",
      "******************************\n",
      "Total unique values: 13664\n"
     ]
    },
    {
     "data": {
      "text/html": [
       "<div>\n",
       "<style scoped>\n",
       "    .dataframe tbody tr th:only-of-type {\n",
       "        vertical-align: middle;\n",
       "    }\n",
       "\n",
       "    .dataframe tbody tr th {\n",
       "        vertical-align: top;\n",
       "    }\n",
       "\n",
       "    .dataframe thead th {\n",
       "        text-align: right;\n",
       "    }\n",
       "</style>\n",
       "<table border=\"1\" class=\"dataframe\">\n",
       "  <thead>\n",
       "    <tr style=\"text-align: right;\">\n",
       "      <th></th>\n",
       "      <th>count</th>\n",
       "    </tr>\n",
       "  </thead>\n",
       "  <tbody>\n",
       "    <tr>\n",
       "      <th>100.000</th>\n",
       "      <td>468</td>\n",
       "    </tr>\n",
       "    <tr>\n",
       "      <th>21.200</th>\n",
       "      <td>10</td>\n",
       "    </tr>\n",
       "    <tr>\n",
       "      <th>83.100</th>\n",
       "      <td>10</td>\n",
       "    </tr>\n",
       "    <tr>\n",
       "      <th>79.800</th>\n",
       "      <td>8</td>\n",
       "    </tr>\n",
       "    <tr>\n",
       "      <th>90.400</th>\n",
       "      <td>7</td>\n",
       "    </tr>\n",
       "    <tr>\n",
       "      <th>...</th>\n",
       "      <td>...</td>\n",
       "    </tr>\n",
       "    <tr>\n",
       "      <th>60.983</th>\n",
       "      <td>1</td>\n",
       "    </tr>\n",
       "    <tr>\n",
       "      <th>23.081</th>\n",
       "      <td>1</td>\n",
       "    </tr>\n",
       "    <tr>\n",
       "      <th>68.911</th>\n",
       "      <td>1</td>\n",
       "    </tr>\n",
       "    <tr>\n",
       "      <th>37.399</th>\n",
       "      <td>1</td>\n",
       "    </tr>\n",
       "    <tr>\n",
       "      <th>56.000</th>\n",
       "      <td>1</td>\n",
       "    </tr>\n",
       "  </tbody>\n",
       "</table>\n",
       "<p>13664 rows × 1 columns</p>\n",
       "</div>"
      ],
      "text/plain": [
       "         count\n",
       "100.000    468\n",
       "21.200      10\n",
       "83.100      10\n",
       "79.800       8\n",
       "90.400       7\n",
       "...        ...\n",
       "60.983       1\n",
       "23.081       1\n",
       "68.911       1\n",
       "37.399       1\n",
       "56.000       1\n",
       "\n",
       "[13664 rows x 1 columns]"
      ]
     },
     "metadata": {},
     "output_type": "display_data"
    },
    {
     "name": "stdout",
     "output_type": "stream",
     "text": [
      "---------------\n",
      "\n",
      "\n",
      "\n"
     ]
    }
   ],
   "source": [
    "## Investigate type and prevalence of unique values in each column of popn_df\n",
    "for col in list(popn_df.columns):\n",
    "    col_summary(popn_df, col)\n",
    "    print('---'*5)\n",
    "    print('\\n\\n')"
   ]
  },
  {
   "cell_type": "markdown",
   "metadata": {},
   "source": [
    "> Upon investigation of the following countries/regions, it does appear that roughly 100% of the total population does in fact live in urban areas. This is not a filler value."
   ]
  },
  {
   "cell_type": "code",
   "execution_count": 12,
   "metadata": {
    "ExecuteTime": {
     "end_time": "2021-04-11T00:47:39.586725Z",
     "start_time": "2021-04-11T00:47:39.570927Z"
    },
    "scrolled": false
   },
   "outputs": [
    {
     "name": "stdout",
     "output_type": "stream",
     "text": [
      "******************************\n",
      "Summary of Entity\n",
      "******************************\n",
      "Total unique values: 10\n"
     ]
    },
    {
     "data": {
      "text/html": [
       "<div>\n",
       "<style scoped>\n",
       "    .dataframe tbody tr th:only-of-type {\n",
       "        vertical-align: middle;\n",
       "    }\n",
       "\n",
       "    .dataframe tbody tr th {\n",
       "        vertical-align: top;\n",
       "    }\n",
       "\n",
       "    .dataframe thead th {\n",
       "        text-align: right;\n",
       "    }\n",
       "</style>\n",
       "<table border=\"1\" class=\"dataframe\">\n",
       "  <thead>\n",
       "    <tr style=\"text-align: right;\">\n",
       "      <th></th>\n",
       "      <th>count</th>\n",
       "    </tr>\n",
       "  </thead>\n",
       "  <tbody>\n",
       "    <tr>\n",
       "      <th>Singapore</th>\n",
       "      <td>58</td>\n",
       "    </tr>\n",
       "    <tr>\n",
       "      <th>Bermuda</th>\n",
       "      <td>58</td>\n",
       "    </tr>\n",
       "    <tr>\n",
       "      <th>Cayman Islands</th>\n",
       "      <td>58</td>\n",
       "    </tr>\n",
       "    <tr>\n",
       "      <th>Monaco</th>\n",
       "      <td>58</td>\n",
       "    </tr>\n",
       "    <tr>\n",
       "      <th>Nauru</th>\n",
       "      <td>58</td>\n",
       "    </tr>\n",
       "    <tr>\n",
       "      <th>Gibraltar</th>\n",
       "      <td>58</td>\n",
       "    </tr>\n",
       "    <tr>\n",
       "      <th>Sint Maarten (Dutch part)</th>\n",
       "      <td>58</td>\n",
       "    </tr>\n",
       "    <tr>\n",
       "      <th>Hong Kong</th>\n",
       "      <td>25</td>\n",
       "    </tr>\n",
       "    <tr>\n",
       "      <th>Macao</th>\n",
       "      <td>21</td>\n",
       "    </tr>\n",
       "    <tr>\n",
       "      <th>Kuwait</th>\n",
       "      <td>16</td>\n",
       "    </tr>\n",
       "  </tbody>\n",
       "</table>\n",
       "</div>"
      ],
      "text/plain": [
       "                           count\n",
       "Singapore                     58\n",
       "Bermuda                       58\n",
       "Cayman Islands                58\n",
       "Monaco                        58\n",
       "Nauru                         58\n",
       "Gibraltar                     58\n",
       "Sint Maarten (Dutch part)     58\n",
       "Hong Kong                     25\n",
       "Macao                         21\n",
       "Kuwait                        16"
      ]
     },
     "metadata": {},
     "output_type": "display_data"
    }
   ],
   "source": [
    "## Check which countries report 100% of population lives in urban areas\n",
    "col_summary(popn_df.loc[popn_df['Urban_Population']==100], 'Entity')"
   ]
  },
  {
   "cell_type": "markdown",
   "metadata": {},
   "source": [
    "## Initial Exploration of GDP Dataset"
   ]
  },
  {
   "cell_type": "markdown",
   "metadata": {},
   "source": [
    "The GDP dataset has no null values and the data type for each column aligns with the type of information in the column.\n",
    "\n",
    "Upon initial inspection, the `Entity` column in this GDP dataset appears cleaner than that in the population dataset."
   ]
  },
  {
   "cell_type": "code",
   "execution_count": 13,
   "metadata": {
    "ExecuteTime": {
     "end_time": "2021-04-11T00:47:39.603783Z",
     "start_time": "2021-04-11T00:47:39.590102Z"
    }
   },
   "outputs": [
    {
     "name": "stdout",
     "output_type": "stream",
     "text": [
      "<class 'pandas.core.frame.DataFrame'>\n",
      "RangeIndex: 4871 entries, 0 to 4870\n",
      "Data columns (total 4 columns):\n",
      " #   Column           Non-Null Count  Dtype  \n",
      "---  ------           --------------  -----  \n",
      " 0   Entity           4871 non-null   object \n",
      " 1   Code             4871 non-null   object \n",
      " 2   Year             4871 non-null   int64  \n",
      " 3   Tax_Percent_GDP  4871 non-null   float64\n",
      "dtypes: float64(1), int64(1), object(2)\n",
      "memory usage: 152.3+ KB\n"
     ]
    }
   ],
   "source": [
    "## Metadata for GDP dataset\n",
    "gdp_df.info()"
   ]
  },
  {
   "cell_type": "code",
   "execution_count": 14,
   "metadata": {
    "ExecuteTime": {
     "end_time": "2021-04-11T00:47:39.631056Z",
     "start_time": "2021-04-11T00:47:39.607754Z"
    }
   },
   "outputs": [
    {
     "data": {
      "text/html": [
       "<div>\n",
       "<style scoped>\n",
       "    .dataframe tbody tr th:only-of-type {\n",
       "        vertical-align: middle;\n",
       "    }\n",
       "\n",
       "    .dataframe tbody tr th {\n",
       "        vertical-align: top;\n",
       "    }\n",
       "\n",
       "    .dataframe thead th {\n",
       "        text-align: right;\n",
       "    }\n",
       "</style>\n",
       "<table border=\"1\" class=\"dataframe\">\n",
       "  <thead>\n",
       "    <tr style=\"text-align: right;\">\n",
       "      <th></th>\n",
       "      <th>Year</th>\n",
       "      <th>Tax_Percent_GDP</th>\n",
       "    </tr>\n",
       "  </thead>\n",
       "  <tbody>\n",
       "    <tr>\n",
       "      <th>count</th>\n",
       "      <td>4871.000000</td>\n",
       "      <td>4871.000000</td>\n",
       "    </tr>\n",
       "    <tr>\n",
       "      <th>mean</th>\n",
       "      <td>2000.872716</td>\n",
       "      <td>6.538407</td>\n",
       "    </tr>\n",
       "    <tr>\n",
       "      <th>std</th>\n",
       "      <td>9.803376</td>\n",
       "      <td>4.915040</td>\n",
       "    </tr>\n",
       "    <tr>\n",
       "      <th>min</th>\n",
       "      <td>1980.000000</td>\n",
       "      <td>0.000000</td>\n",
       "    </tr>\n",
       "    <tr>\n",
       "      <th>25%</th>\n",
       "      <td>1994.000000</td>\n",
       "      <td>2.903660</td>\n",
       "    </tr>\n",
       "    <tr>\n",
       "      <th>50%</th>\n",
       "      <td>2001.000000</td>\n",
       "      <td>5.455395</td>\n",
       "    </tr>\n",
       "    <tr>\n",
       "      <th>75%</th>\n",
       "      <td>2009.000000</td>\n",
       "      <td>8.992646</td>\n",
       "    </tr>\n",
       "    <tr>\n",
       "      <th>max</th>\n",
       "      <td>2017.000000</td>\n",
       "      <td>32.075305</td>\n",
       "    </tr>\n",
       "  </tbody>\n",
       "</table>\n",
       "</div>"
      ],
      "text/plain": [
       "              Year  Tax_Percent_GDP\n",
       "count  4871.000000      4871.000000\n",
       "mean   2000.872716         6.538407\n",
       "std       9.803376         4.915040\n",
       "min    1980.000000         0.000000\n",
       "25%    1994.000000         2.903660\n",
       "50%    2001.000000         5.455395\n",
       "75%    2009.000000         8.992646\n",
       "max    2017.000000        32.075305"
      ]
     },
     "execution_count": 14,
     "metadata": {},
     "output_type": "execute_result"
    }
   ],
   "source": [
    "## Summary statistics of the numeric columns of gdp_df\n",
    "gdp_df.describe()"
   ]
  },
  {
   "cell_type": "code",
   "execution_count": 15,
   "metadata": {
    "ExecuteTime": {
     "end_time": "2021-04-11T00:47:39.687544Z",
     "start_time": "2021-04-11T00:47:39.633987Z"
    },
    "scrolled": false
   },
   "outputs": [
    {
     "name": "stdout",
     "output_type": "stream",
     "text": [
      "******************************\n",
      "Summary of Entity\n",
      "******************************\n",
      "Total unique values: 186\n"
     ]
    },
    {
     "data": {
      "text/html": [
       "<div>\n",
       "<style scoped>\n",
       "    .dataframe tbody tr th:only-of-type {\n",
       "        vertical-align: middle;\n",
       "    }\n",
       "\n",
       "    .dataframe tbody tr th {\n",
       "        vertical-align: top;\n",
       "    }\n",
       "\n",
       "    .dataframe thead th {\n",
       "        text-align: right;\n",
       "    }\n",
       "</style>\n",
       "<table border=\"1\" class=\"dataframe\">\n",
       "  <thead>\n",
       "    <tr style=\"text-align: right;\">\n",
       "      <th></th>\n",
       "      <th>count</th>\n",
       "    </tr>\n",
       "  </thead>\n",
       "  <tbody>\n",
       "    <tr>\n",
       "      <th>Belgium</th>\n",
       "      <td>38</td>\n",
       "    </tr>\n",
       "    <tr>\n",
       "      <th>Dominican Republic</th>\n",
       "      <td>38</td>\n",
       "    </tr>\n",
       "    <tr>\n",
       "      <th>Italy</th>\n",
       "      <td>38</td>\n",
       "    </tr>\n",
       "    <tr>\n",
       "      <th>Venezuela</th>\n",
       "      <td>38</td>\n",
       "    </tr>\n",
       "    <tr>\n",
       "      <th>Cyprus</th>\n",
       "      <td>38</td>\n",
       "    </tr>\n",
       "    <tr>\n",
       "      <th>...</th>\n",
       "      <td>...</td>\n",
       "    </tr>\n",
       "    <tr>\n",
       "      <th>Somalia</th>\n",
       "      <td>5</td>\n",
       "    </tr>\n",
       "    <tr>\n",
       "      <th>Kosovo</th>\n",
       "      <td>4</td>\n",
       "    </tr>\n",
       "    <tr>\n",
       "      <th>Algeria</th>\n",
       "      <td>2</td>\n",
       "    </tr>\n",
       "    <tr>\n",
       "      <th>Iran</th>\n",
       "      <td>2</td>\n",
       "    </tr>\n",
       "    <tr>\n",
       "      <th>Bahamas</th>\n",
       "      <td>2</td>\n",
       "    </tr>\n",
       "  </tbody>\n",
       "</table>\n",
       "<p>186 rows × 1 columns</p>\n",
       "</div>"
      ],
      "text/plain": [
       "                    count\n",
       "Belgium                38\n",
       "Dominican Republic     38\n",
       "Italy                  38\n",
       "Venezuela              38\n",
       "Cyprus                 38\n",
       "...                   ...\n",
       "Somalia                 5\n",
       "Kosovo                  4\n",
       "Algeria                 2\n",
       "Iran                    2\n",
       "Bahamas                 2\n",
       "\n",
       "[186 rows x 1 columns]"
      ]
     },
     "metadata": {},
     "output_type": "display_data"
    },
    {
     "name": "stdout",
     "output_type": "stream",
     "text": [
      "---------------\n",
      "\n",
      "\n",
      "\n",
      "******************************\n",
      "Summary of Code\n",
      "******************************\n",
      "Total unique values: 186\n"
     ]
    },
    {
     "data": {
      "text/html": [
       "<div>\n",
       "<style scoped>\n",
       "    .dataframe tbody tr th:only-of-type {\n",
       "        vertical-align: middle;\n",
       "    }\n",
       "\n",
       "    .dataframe tbody tr th {\n",
       "        vertical-align: top;\n",
       "    }\n",
       "\n",
       "    .dataframe thead th {\n",
       "        text-align: right;\n",
       "    }\n",
       "</style>\n",
       "<table border=\"1\" class=\"dataframe\">\n",
       "  <thead>\n",
       "    <tr style=\"text-align: right;\">\n",
       "      <th></th>\n",
       "      <th>count</th>\n",
       "    </tr>\n",
       "  </thead>\n",
       "  <tbody>\n",
       "    <tr>\n",
       "      <th>TUR</th>\n",
       "      <td>38</td>\n",
       "    </tr>\n",
       "    <tr>\n",
       "      <th>DEU</th>\n",
       "      <td>38</td>\n",
       "    </tr>\n",
       "    <tr>\n",
       "      <th>DNK</th>\n",
       "      <td>38</td>\n",
       "    </tr>\n",
       "    <tr>\n",
       "      <th>CYP</th>\n",
       "      <td>38</td>\n",
       "    </tr>\n",
       "    <tr>\n",
       "      <th>CRI</th>\n",
       "      <td>38</td>\n",
       "    </tr>\n",
       "    <tr>\n",
       "      <th>...</th>\n",
       "      <td>...</td>\n",
       "    </tr>\n",
       "    <tr>\n",
       "      <th>SOM</th>\n",
       "      <td>5</td>\n",
       "    </tr>\n",
       "    <tr>\n",
       "      <th>OWID_KOS</th>\n",
       "      <td>4</td>\n",
       "    </tr>\n",
       "    <tr>\n",
       "      <th>DZA</th>\n",
       "      <td>2</td>\n",
       "    </tr>\n",
       "    <tr>\n",
       "      <th>IRN</th>\n",
       "      <td>2</td>\n",
       "    </tr>\n",
       "    <tr>\n",
       "      <th>BHS</th>\n",
       "      <td>2</td>\n",
       "    </tr>\n",
       "  </tbody>\n",
       "</table>\n",
       "<p>186 rows × 1 columns</p>\n",
       "</div>"
      ],
      "text/plain": [
       "          count\n",
       "TUR          38\n",
       "DEU          38\n",
       "DNK          38\n",
       "CYP          38\n",
       "CRI          38\n",
       "...         ...\n",
       "SOM           5\n",
       "OWID_KOS      4\n",
       "DZA           2\n",
       "IRN           2\n",
       "BHS           2\n",
       "\n",
       "[186 rows x 1 columns]"
      ]
     },
     "metadata": {},
     "output_type": "display_data"
    },
    {
     "name": "stdout",
     "output_type": "stream",
     "text": [
      "---------------\n",
      "\n",
      "\n",
      "\n",
      "******************************\n",
      "Summary of Year\n",
      "******************************\n",
      "Total unique values: 38\n"
     ]
    },
    {
     "data": {
      "text/html": [
       "<div>\n",
       "<style scoped>\n",
       "    .dataframe tbody tr th:only-of-type {\n",
       "        vertical-align: middle;\n",
       "    }\n",
       "\n",
       "    .dataframe tbody tr th {\n",
       "        vertical-align: top;\n",
       "    }\n",
       "\n",
       "    .dataframe thead th {\n",
       "        text-align: right;\n",
       "    }\n",
       "</style>\n",
       "<table border=\"1\" class=\"dataframe\">\n",
       "  <thead>\n",
       "    <tr style=\"text-align: right;\">\n",
       "      <th></th>\n",
       "      <th>count</th>\n",
       "    </tr>\n",
       "  </thead>\n",
       "  <tbody>\n",
       "    <tr>\n",
       "      <th>2002</th>\n",
       "      <td>169</td>\n",
       "    </tr>\n",
       "    <tr>\n",
       "      <th>2003</th>\n",
       "      <td>167</td>\n",
       "    </tr>\n",
       "    <tr>\n",
       "      <th>2001</th>\n",
       "      <td>166</td>\n",
       "    </tr>\n",
       "    <tr>\n",
       "      <th>2000</th>\n",
       "      <td>166</td>\n",
       "    </tr>\n",
       "    <tr>\n",
       "      <th>2004</th>\n",
       "      <td>166</td>\n",
       "    </tr>\n",
       "    <tr>\n",
       "      <th>...</th>\n",
       "      <td>...</td>\n",
       "    </tr>\n",
       "    <tr>\n",
       "      <th>1984</th>\n",
       "      <td>73</td>\n",
       "    </tr>\n",
       "    <tr>\n",
       "      <th>1983</th>\n",
       "      <td>71</td>\n",
       "    </tr>\n",
       "    <tr>\n",
       "      <th>1982</th>\n",
       "      <td>64</td>\n",
       "    </tr>\n",
       "    <tr>\n",
       "      <th>1980</th>\n",
       "      <td>61</td>\n",
       "    </tr>\n",
       "    <tr>\n",
       "      <th>1981</th>\n",
       "      <td>60</td>\n",
       "    </tr>\n",
       "  </tbody>\n",
       "</table>\n",
       "<p>38 rows × 1 columns</p>\n",
       "</div>"
      ],
      "text/plain": [
       "      count\n",
       "2002    169\n",
       "2003    167\n",
       "2001    166\n",
       "2000    166\n",
       "2004    166\n",
       "...     ...\n",
       "1984     73\n",
       "1983     71\n",
       "1982     64\n",
       "1980     61\n",
       "1981     60\n",
       "\n",
       "[38 rows x 1 columns]"
      ]
     },
     "metadata": {},
     "output_type": "display_data"
    },
    {
     "name": "stdout",
     "output_type": "stream",
     "text": [
      "---------------\n",
      "\n",
      "\n",
      "\n",
      "******************************\n",
      "Summary of Tax_Percent_GDP\n",
      "******************************\n",
      "Total unique values: 4853\n"
     ]
    },
    {
     "data": {
      "text/html": [
       "<div>\n",
       "<style scoped>\n",
       "    .dataframe tbody tr th:only-of-type {\n",
       "        vertical-align: middle;\n",
       "    }\n",
       "\n",
       "    .dataframe tbody tr th {\n",
       "        vertical-align: top;\n",
       "    }\n",
       "\n",
       "    .dataframe thead th {\n",
       "        text-align: right;\n",
       "    }\n",
       "</style>\n",
       "<table border=\"1\" class=\"dataframe\">\n",
       "  <thead>\n",
       "    <tr style=\"text-align: right;\">\n",
       "      <th></th>\n",
       "      <th>count</th>\n",
       "    </tr>\n",
       "  </thead>\n",
       "  <tbody>\n",
       "    <tr>\n",
       "      <th>0.000000</th>\n",
       "      <td>16</td>\n",
       "    </tr>\n",
       "    <tr>\n",
       "      <th>5.176471</th>\n",
       "      <td>2</td>\n",
       "    </tr>\n",
       "    <tr>\n",
       "      <th>8.035714</th>\n",
       "      <td>2</td>\n",
       "    </tr>\n",
       "    <tr>\n",
       "      <th>2.760678</th>\n",
       "      <td>2</td>\n",
       "    </tr>\n",
       "    <tr>\n",
       "      <th>5.150947</th>\n",
       "      <td>1</td>\n",
       "    </tr>\n",
       "    <tr>\n",
       "      <th>...</th>\n",
       "      <td>...</td>\n",
       "    </tr>\n",
       "    <tr>\n",
       "      <th>12.528528</th>\n",
       "      <td>1</td>\n",
       "    </tr>\n",
       "    <tr>\n",
       "      <th>15.845956</th>\n",
       "      <td>1</td>\n",
       "    </tr>\n",
       "    <tr>\n",
       "      <th>12.751597</th>\n",
       "      <td>1</td>\n",
       "    </tr>\n",
       "    <tr>\n",
       "      <th>4.302662</th>\n",
       "      <td>1</td>\n",
       "    </tr>\n",
       "    <tr>\n",
       "      <th>2.996735</th>\n",
       "      <td>1</td>\n",
       "    </tr>\n",
       "  </tbody>\n",
       "</table>\n",
       "<p>4853 rows × 1 columns</p>\n",
       "</div>"
      ],
      "text/plain": [
       "           count\n",
       "0.000000      16\n",
       "5.176471       2\n",
       "8.035714       2\n",
       "2.760678       2\n",
       "5.150947       1\n",
       "...          ...\n",
       "12.528528      1\n",
       "15.845956      1\n",
       "12.751597      1\n",
       "4.302662       1\n",
       "2.996735       1\n",
       "\n",
       "[4853 rows x 1 columns]"
      ]
     },
     "metadata": {},
     "output_type": "display_data"
    },
    {
     "name": "stdout",
     "output_type": "stream",
     "text": [
      "---------------\n",
      "\n",
      "\n",
      "\n"
     ]
    }
   ],
   "source": [
    "## Investigate type and prevalence of unique values in each column of gdp_df\n",
    "for col in list(gdp_df.columns):\n",
    "    col_summary(gdp_df, col)\n",
    "    print('---'*5)\n",
    "    print('\\n\\n')"
   ]
  },
  {
   "cell_type": "markdown",
   "metadata": {},
   "source": [
    "## Merge the DataFrames"
   ]
  },
  {
   "cell_type": "code",
   "execution_count": 16,
   "metadata": {
    "ExecuteTime": {
     "end_time": "2021-04-11T00:47:39.718095Z",
     "start_time": "2021-04-11T00:47:39.690776Z"
    }
   },
   "outputs": [
    {
     "data": {
      "text/html": [
       "<div>\n",
       "<style scoped>\n",
       "    .dataframe tbody tr th:only-of-type {\n",
       "        vertical-align: middle;\n",
       "    }\n",
       "\n",
       "    .dataframe tbody tr th {\n",
       "        vertical-align: top;\n",
       "    }\n",
       "\n",
       "    .dataframe thead th {\n",
       "        text-align: right;\n",
       "    }\n",
       "</style>\n",
       "<table border=\"1\" class=\"dataframe\">\n",
       "  <thead>\n",
       "    <tr style=\"text-align: right;\">\n",
       "      <th></th>\n",
       "      <th>Entity</th>\n",
       "      <th>Code_x</th>\n",
       "      <th>Year</th>\n",
       "      <th>Tax_Percent_GDP</th>\n",
       "      <th>Code_y</th>\n",
       "      <th>Urban_Population</th>\n",
       "    </tr>\n",
       "  </thead>\n",
       "  <tbody>\n",
       "    <tr>\n",
       "      <th>0</th>\n",
       "      <td>Afghanistan</td>\n",
       "      <td>AFG</td>\n",
       "      <td>2003</td>\n",
       "      <td>0.165953</td>\n",
       "      <td>AFG</td>\n",
       "      <td>22.353</td>\n",
       "    </tr>\n",
       "    <tr>\n",
       "      <th>1</th>\n",
       "      <td>Afghanistan</td>\n",
       "      <td>AFG</td>\n",
       "      <td>2004</td>\n",
       "      <td>0.411647</td>\n",
       "      <td>AFG</td>\n",
       "      <td>22.500</td>\n",
       "    </tr>\n",
       "    <tr>\n",
       "      <th>2</th>\n",
       "      <td>Afghanistan</td>\n",
       "      <td>AFG</td>\n",
       "      <td>2006</td>\n",
       "      <td>1.261181</td>\n",
       "      <td>AFG</td>\n",
       "      <td>22.907</td>\n",
       "    </tr>\n",
       "    <tr>\n",
       "      <th>3</th>\n",
       "      <td>Afghanistan</td>\n",
       "      <td>AFG</td>\n",
       "      <td>2007</td>\n",
       "      <td>1.323461</td>\n",
       "      <td>AFG</td>\n",
       "      <td>23.113</td>\n",
       "    </tr>\n",
       "    <tr>\n",
       "      <th>4</th>\n",
       "      <td>Afghanistan</td>\n",
       "      <td>AFG</td>\n",
       "      <td>2008</td>\n",
       "      <td>1.664719</td>\n",
       "      <td>AFG</td>\n",
       "      <td>23.320</td>\n",
       "    </tr>\n",
       "  </tbody>\n",
       "</table>\n",
       "</div>"
      ],
      "text/plain": [
       "        Entity Code_x  Year  Tax_Percent_GDP Code_y  Urban_Population\n",
       "0  Afghanistan    AFG  2003         0.165953    AFG            22.353\n",
       "1  Afghanistan    AFG  2004         0.411647    AFG            22.500\n",
       "2  Afghanistan    AFG  2006         1.261181    AFG            22.907\n",
       "3  Afghanistan    AFG  2007         1.323461    AFG            23.113\n",
       "4  Afghanistan    AFG  2008         1.664719    AFG            23.320"
      ]
     },
     "execution_count": 16,
     "metadata": {},
     "output_type": "execute_result"
    }
   ],
   "source": [
    "## Create new DataFrame object by merging the 2 datasets\n",
    "social_df = pd.merge(\n",
    "    left=gdp_df, right=popn_df,\n",
    "    \n",
    "    # Perform inner join to retain only the rows present in both files\n",
    "    how='inner',\n",
    "    \n",
    "    # Joining first on country, then on year\n",
    "    on=['Entity', 'Year'],\n",
    "   \n",
    "    # Check that there are not duplicate keys (combos of Entity and Year)\n",
    "    validate='one_to_one'\n",
    ")\n",
    "\n",
    "social_df.head()"
   ]
  },
  {
   "cell_type": "code",
   "execution_count": 17,
   "metadata": {
    "ExecuteTime": {
     "end_time": "2021-04-11T00:47:39.733668Z",
     "start_time": "2021-04-11T00:47:39.720766Z"
    }
   },
   "outputs": [
    {
     "name": "stdout",
     "output_type": "stream",
     "text": [
      "<class 'pandas.core.frame.DataFrame'>\n",
      "Int64Index: 4822 entries, 0 to 4821\n",
      "Data columns (total 6 columns):\n",
      " #   Column            Non-Null Count  Dtype  \n",
      "---  ------            --------------  -----  \n",
      " 0   Entity            4822 non-null   object \n",
      " 1   Code_x            4822 non-null   object \n",
      " 2   Year              4822 non-null   int64  \n",
      " 3   Tax_Percent_GDP   4822 non-null   float64\n",
      " 4   Code_y            4822 non-null   object \n",
      " 5   Urban_Population  4822 non-null   float64\n",
      "dtypes: float64(2), int64(1), object(3)\n",
      "memory usage: 263.7+ KB\n"
     ]
    }
   ],
   "source": [
    "## Metadata for social dataset\n",
    "social_df.info()"
   ]
  },
  {
   "cell_type": "code",
   "execution_count": 18,
   "metadata": {
    "ExecuteTime": {
     "end_time": "2021-04-11T00:47:39.748938Z",
     "start_time": "2021-04-11T00:47:39.736314Z"
    }
   },
   "outputs": [
    {
     "data": {
      "text/html": [
       "<div>\n",
       "<style scoped>\n",
       "    .dataframe tbody tr th:only-of-type {\n",
       "        vertical-align: middle;\n",
       "    }\n",
       "\n",
       "    .dataframe tbody tr th {\n",
       "        vertical-align: top;\n",
       "    }\n",
       "\n",
       "    .dataframe thead th {\n",
       "        text-align: right;\n",
       "    }\n",
       "</style>\n",
       "<table border=\"1\" class=\"dataframe\">\n",
       "  <thead>\n",
       "    <tr style=\"text-align: right;\">\n",
       "      <th></th>\n",
       "      <th>Entity</th>\n",
       "      <th>Code</th>\n",
       "      <th>Year</th>\n",
       "      <th>Tax_Percent_GDP</th>\n",
       "      <th>Urban_Population</th>\n",
       "    </tr>\n",
       "  </thead>\n",
       "  <tbody>\n",
       "    <tr>\n",
       "      <th>0</th>\n",
       "      <td>Afghanistan</td>\n",
       "      <td>AFG</td>\n",
       "      <td>2003</td>\n",
       "      <td>0.165953</td>\n",
       "      <td>22.353</td>\n",
       "    </tr>\n",
       "    <tr>\n",
       "      <th>1</th>\n",
       "      <td>Afghanistan</td>\n",
       "      <td>AFG</td>\n",
       "      <td>2004</td>\n",
       "      <td>0.411647</td>\n",
       "      <td>22.500</td>\n",
       "    </tr>\n",
       "    <tr>\n",
       "      <th>2</th>\n",
       "      <td>Afghanistan</td>\n",
       "      <td>AFG</td>\n",
       "      <td>2006</td>\n",
       "      <td>1.261181</td>\n",
       "      <td>22.907</td>\n",
       "    </tr>\n",
       "    <tr>\n",
       "      <th>3</th>\n",
       "      <td>Afghanistan</td>\n",
       "      <td>AFG</td>\n",
       "      <td>2007</td>\n",
       "      <td>1.323461</td>\n",
       "      <td>23.113</td>\n",
       "    </tr>\n",
       "    <tr>\n",
       "      <th>4</th>\n",
       "      <td>Afghanistan</td>\n",
       "      <td>AFG</td>\n",
       "      <td>2008</td>\n",
       "      <td>1.664719</td>\n",
       "      <td>23.320</td>\n",
       "    </tr>\n",
       "  </tbody>\n",
       "</table>\n",
       "</div>"
      ],
      "text/plain": [
       "        Entity Code  Year  Tax_Percent_GDP  Urban_Population\n",
       "0  Afghanistan  AFG  2003         0.165953            22.353\n",
       "1  Afghanistan  AFG  2004         0.411647            22.500\n",
       "2  Afghanistan  AFG  2006         1.261181            22.907\n",
       "3  Afghanistan  AFG  2007         1.323461            23.113\n",
       "4  Afghanistan  AFG  2008         1.664719            23.320"
      ]
     },
     "execution_count": 18,
     "metadata": {},
     "output_type": "execute_result"
    }
   ],
   "source": [
    "## Drop one of the Code columns and rename remaining\n",
    "social_df.drop(columns=['Code_y'], inplace=True)\n",
    "social_df.rename(columns={'Code_x': 'Code'}, inplace=True)\n",
    "social_df.head()"
   ]
  },
  {
   "cell_type": "code",
   "execution_count": 19,
   "metadata": {
    "ExecuteTime": {
     "end_time": "2021-04-11T00:47:39.772427Z",
     "start_time": "2021-04-11T00:47:39.751409Z"
    }
   },
   "outputs": [
    {
     "data": {
      "text/html": [
       "<div>\n",
       "<style scoped>\n",
       "    .dataframe tbody tr th:only-of-type {\n",
       "        vertical-align: middle;\n",
       "    }\n",
       "\n",
       "    .dataframe tbody tr th {\n",
       "        vertical-align: top;\n",
       "    }\n",
       "\n",
       "    .dataframe thead th {\n",
       "        text-align: right;\n",
       "    }\n",
       "</style>\n",
       "<table border=\"1\" class=\"dataframe\">\n",
       "  <thead>\n",
       "    <tr style=\"text-align: right;\">\n",
       "      <th></th>\n",
       "      <th>Year</th>\n",
       "      <th>Tax_Percent_GDP</th>\n",
       "      <th>Urban_Population</th>\n",
       "    </tr>\n",
       "  </thead>\n",
       "  <tbody>\n",
       "    <tr>\n",
       "      <th>count</th>\n",
       "      <td>4822.000000</td>\n",
       "      <td>4822.000000</td>\n",
       "      <td>4822.000000</td>\n",
       "    </tr>\n",
       "    <tr>\n",
       "      <th>mean</th>\n",
       "      <td>2000.815844</td>\n",
       "      <td>6.541968</td>\n",
       "      <td>54.562002</td>\n",
       "    </tr>\n",
       "    <tr>\n",
       "      <th>std</th>\n",
       "      <td>9.825130</td>\n",
       "      <td>4.914286</td>\n",
       "      <td>24.089673</td>\n",
       "    </tr>\n",
       "    <tr>\n",
       "      <th>min</th>\n",
       "      <td>1980.000000</td>\n",
       "      <td>0.000000</td>\n",
       "      <td>4.674000</td>\n",
       "    </tr>\n",
       "    <tr>\n",
       "      <th>25%</th>\n",
       "      <td>1994.000000</td>\n",
       "      <td>2.913589</td>\n",
       "      <td>34.030750</td>\n",
       "    </tr>\n",
       "    <tr>\n",
       "      <th>50%</th>\n",
       "      <td>2001.000000</td>\n",
       "      <td>5.453532</td>\n",
       "      <td>54.978000</td>\n",
       "    </tr>\n",
       "    <tr>\n",
       "      <th>75%</th>\n",
       "      <td>2009.000000</td>\n",
       "      <td>8.964636</td>\n",
       "      <td>74.338750</td>\n",
       "    </tr>\n",
       "    <tr>\n",
       "      <th>max</th>\n",
       "      <td>2017.000000</td>\n",
       "      <td>32.075305</td>\n",
       "      <td>100.000000</td>\n",
       "    </tr>\n",
       "  </tbody>\n",
       "</table>\n",
       "</div>"
      ],
      "text/plain": [
       "              Year  Tax_Percent_GDP  Urban_Population\n",
       "count  4822.000000      4822.000000       4822.000000\n",
       "mean   2000.815844         6.541968         54.562002\n",
       "std       9.825130         4.914286         24.089673\n",
       "min    1980.000000         0.000000          4.674000\n",
       "25%    1994.000000         2.913589         34.030750\n",
       "50%    2001.000000         5.453532         54.978000\n",
       "75%    2009.000000         8.964636         74.338750\n",
       "max    2017.000000        32.075305        100.000000"
      ]
     },
     "execution_count": 19,
     "metadata": {},
     "output_type": "execute_result"
    }
   ],
   "source": [
    "## Summary statistics of the numeric columns of social_df\n",
    "social_df.describe()"
   ]
  },
  {
   "cell_type": "code",
   "execution_count": 20,
   "metadata": {
    "ExecuteTime": {
     "end_time": "2021-04-11T00:47:39.823396Z",
     "start_time": "2021-04-11T00:47:39.774598Z"
    },
    "scrolled": false
   },
   "outputs": [
    {
     "name": "stdout",
     "output_type": "stream",
     "text": [
      "******************************\n",
      "Summary of Entity\n",
      "******************************\n",
      "Total unique values: 182\n"
     ]
    },
    {
     "data": {
      "text/html": [
       "<div>\n",
       "<style scoped>\n",
       "    .dataframe tbody tr th:only-of-type {\n",
       "        vertical-align: middle;\n",
       "    }\n",
       "\n",
       "    .dataframe tbody tr th {\n",
       "        vertical-align: top;\n",
       "    }\n",
       "\n",
       "    .dataframe thead th {\n",
       "        text-align: right;\n",
       "    }\n",
       "</style>\n",
       "<table border=\"1\" class=\"dataframe\">\n",
       "  <thead>\n",
       "    <tr style=\"text-align: right;\">\n",
       "      <th></th>\n",
       "      <th>count</th>\n",
       "    </tr>\n",
       "  </thead>\n",
       "  <tbody>\n",
       "    <tr>\n",
       "      <th>Mozambique</th>\n",
       "      <td>38</td>\n",
       "    </tr>\n",
       "    <tr>\n",
       "      <th>Belgium</th>\n",
       "      <td>38</td>\n",
       "    </tr>\n",
       "    <tr>\n",
       "      <th>Cyprus</th>\n",
       "      <td>38</td>\n",
       "    </tr>\n",
       "    <tr>\n",
       "      <th>Portugal</th>\n",
       "      <td>38</td>\n",
       "    </tr>\n",
       "    <tr>\n",
       "      <th>Ireland</th>\n",
       "      <td>38</td>\n",
       "    </tr>\n",
       "    <tr>\n",
       "      <th>...</th>\n",
       "      <td>...</td>\n",
       "    </tr>\n",
       "    <tr>\n",
       "      <th>Congo</th>\n",
       "      <td>6</td>\n",
       "    </tr>\n",
       "    <tr>\n",
       "      <th>Somalia</th>\n",
       "      <td>5</td>\n",
       "    </tr>\n",
       "    <tr>\n",
       "      <th>Bahamas</th>\n",
       "      <td>2</td>\n",
       "    </tr>\n",
       "    <tr>\n",
       "      <th>Iran</th>\n",
       "      <td>2</td>\n",
       "    </tr>\n",
       "    <tr>\n",
       "      <th>Algeria</th>\n",
       "      <td>2</td>\n",
       "    </tr>\n",
       "  </tbody>\n",
       "</table>\n",
       "<p>182 rows × 1 columns</p>\n",
       "</div>"
      ],
      "text/plain": [
       "            count\n",
       "Mozambique     38\n",
       "Belgium        38\n",
       "Cyprus         38\n",
       "Portugal       38\n",
       "Ireland        38\n",
       "...           ...\n",
       "Congo           6\n",
       "Somalia         5\n",
       "Bahamas         2\n",
       "Iran            2\n",
       "Algeria         2\n",
       "\n",
       "[182 rows x 1 columns]"
      ]
     },
     "metadata": {},
     "output_type": "display_data"
    },
    {
     "name": "stdout",
     "output_type": "stream",
     "text": [
      "---------------\n",
      "\n",
      "\n",
      "\n",
      "******************************\n",
      "Summary of Code\n",
      "******************************\n",
      "Total unique values: 182\n"
     ]
    },
    {
     "data": {
      "text/html": [
       "<div>\n",
       "<style scoped>\n",
       "    .dataframe tbody tr th:only-of-type {\n",
       "        vertical-align: middle;\n",
       "    }\n",
       "\n",
       "    .dataframe tbody tr th {\n",
       "        vertical-align: top;\n",
       "    }\n",
       "\n",
       "    .dataframe thead th {\n",
       "        text-align: right;\n",
       "    }\n",
       "</style>\n",
       "<table border=\"1\" class=\"dataframe\">\n",
       "  <thead>\n",
       "    <tr style=\"text-align: right;\">\n",
       "      <th></th>\n",
       "      <th>count</th>\n",
       "    </tr>\n",
       "  </thead>\n",
       "  <tbody>\n",
       "    <tr>\n",
       "      <th>FRA</th>\n",
       "      <td>38</td>\n",
       "    </tr>\n",
       "    <tr>\n",
       "      <th>ESP</th>\n",
       "      <td>38</td>\n",
       "    </tr>\n",
       "    <tr>\n",
       "      <th>IRL</th>\n",
       "      <td>38</td>\n",
       "    </tr>\n",
       "    <tr>\n",
       "      <th>AUT</th>\n",
       "      <td>38</td>\n",
       "    </tr>\n",
       "    <tr>\n",
       "      <th>DEU</th>\n",
       "      <td>38</td>\n",
       "    </tr>\n",
       "    <tr>\n",
       "      <th>...</th>\n",
       "      <td>...</td>\n",
       "    </tr>\n",
       "    <tr>\n",
       "      <th>COG</th>\n",
       "      <td>6</td>\n",
       "    </tr>\n",
       "    <tr>\n",
       "      <th>SOM</th>\n",
       "      <td>5</td>\n",
       "    </tr>\n",
       "    <tr>\n",
       "      <th>IRN</th>\n",
       "      <td>2</td>\n",
       "    </tr>\n",
       "    <tr>\n",
       "      <th>BHS</th>\n",
       "      <td>2</td>\n",
       "    </tr>\n",
       "    <tr>\n",
       "      <th>DZA</th>\n",
       "      <td>2</td>\n",
       "    </tr>\n",
       "  </tbody>\n",
       "</table>\n",
       "<p>182 rows × 1 columns</p>\n",
       "</div>"
      ],
      "text/plain": [
       "     count\n",
       "FRA     38\n",
       "ESP     38\n",
       "IRL     38\n",
       "AUT     38\n",
       "DEU     38\n",
       "..     ...\n",
       "COG      6\n",
       "SOM      5\n",
       "IRN      2\n",
       "BHS      2\n",
       "DZA      2\n",
       "\n",
       "[182 rows x 1 columns]"
      ]
     },
     "metadata": {},
     "output_type": "display_data"
    },
    {
     "name": "stdout",
     "output_type": "stream",
     "text": [
      "---------------\n",
      "\n",
      "\n",
      "\n",
      "******************************\n",
      "Summary of Year\n",
      "******************************\n",
      "Total unique values: 38\n"
     ]
    },
    {
     "data": {
      "text/html": [
       "<div>\n",
       "<style scoped>\n",
       "    .dataframe tbody tr th:only-of-type {\n",
       "        vertical-align: middle;\n",
       "    }\n",
       "\n",
       "    .dataframe tbody tr th {\n",
       "        vertical-align: top;\n",
       "    }\n",
       "\n",
       "    .dataframe thead th {\n",
       "        text-align: right;\n",
       "    }\n",
       "</style>\n",
       "<table border=\"1\" class=\"dataframe\">\n",
       "  <thead>\n",
       "    <tr style=\"text-align: right;\">\n",
       "      <th></th>\n",
       "      <th>count</th>\n",
       "    </tr>\n",
       "  </thead>\n",
       "  <tbody>\n",
       "    <tr>\n",
       "      <th>2002</th>\n",
       "      <td>166</td>\n",
       "    </tr>\n",
       "    <tr>\n",
       "      <th>2003</th>\n",
       "      <td>164</td>\n",
       "    </tr>\n",
       "    <tr>\n",
       "      <th>2001</th>\n",
       "      <td>163</td>\n",
       "    </tr>\n",
       "    <tr>\n",
       "      <th>2000</th>\n",
       "      <td>163</td>\n",
       "    </tr>\n",
       "    <tr>\n",
       "      <th>2004</th>\n",
       "      <td>163</td>\n",
       "    </tr>\n",
       "    <tr>\n",
       "      <th>...</th>\n",
       "      <td>...</td>\n",
       "    </tr>\n",
       "    <tr>\n",
       "      <th>1984</th>\n",
       "      <td>73</td>\n",
       "    </tr>\n",
       "    <tr>\n",
       "      <th>1983</th>\n",
       "      <td>71</td>\n",
       "    </tr>\n",
       "    <tr>\n",
       "      <th>1982</th>\n",
       "      <td>64</td>\n",
       "    </tr>\n",
       "    <tr>\n",
       "      <th>1980</th>\n",
       "      <td>61</td>\n",
       "    </tr>\n",
       "    <tr>\n",
       "      <th>1981</th>\n",
       "      <td>60</td>\n",
       "    </tr>\n",
       "  </tbody>\n",
       "</table>\n",
       "<p>38 rows × 1 columns</p>\n",
       "</div>"
      ],
      "text/plain": [
       "      count\n",
       "2002    166\n",
       "2003    164\n",
       "2001    163\n",
       "2000    163\n",
       "2004    163\n",
       "...     ...\n",
       "1984     73\n",
       "1983     71\n",
       "1982     64\n",
       "1980     61\n",
       "1981     60\n",
       "\n",
       "[38 rows x 1 columns]"
      ]
     },
     "metadata": {},
     "output_type": "display_data"
    },
    {
     "name": "stdout",
     "output_type": "stream",
     "text": [
      "---------------\n",
      "\n",
      "\n",
      "\n",
      "******************************\n",
      "Summary of Tax_Percent_GDP\n",
      "******************************\n",
      "Total unique values: 4815\n"
     ]
    },
    {
     "data": {
      "text/html": [
       "<div>\n",
       "<style scoped>\n",
       "    .dataframe tbody tr th:only-of-type {\n",
       "        vertical-align: middle;\n",
       "    }\n",
       "\n",
       "    .dataframe tbody tr th {\n",
       "        vertical-align: top;\n",
       "    }\n",
       "\n",
       "    .dataframe thead th {\n",
       "        text-align: right;\n",
       "    }\n",
       "</style>\n",
       "<table border=\"1\" class=\"dataframe\">\n",
       "  <thead>\n",
       "    <tr style=\"text-align: right;\">\n",
       "      <th></th>\n",
       "      <th>count</th>\n",
       "    </tr>\n",
       "  </thead>\n",
       "  <tbody>\n",
       "    <tr>\n",
       "      <th>0.000000</th>\n",
       "      <td>5</td>\n",
       "    </tr>\n",
       "    <tr>\n",
       "      <th>8.035714</th>\n",
       "      <td>2</td>\n",
       "    </tr>\n",
       "    <tr>\n",
       "      <th>5.176471</th>\n",
       "      <td>2</td>\n",
       "    </tr>\n",
       "    <tr>\n",
       "      <th>2.760678</th>\n",
       "      <td>2</td>\n",
       "    </tr>\n",
       "    <tr>\n",
       "      <th>11.306637</th>\n",
       "      <td>1</td>\n",
       "    </tr>\n",
       "    <tr>\n",
       "      <th>...</th>\n",
       "      <td>...</td>\n",
       "    </tr>\n",
       "    <tr>\n",
       "      <th>5.474110</th>\n",
       "      <td>1</td>\n",
       "    </tr>\n",
       "    <tr>\n",
       "      <th>7.046936</th>\n",
       "      <td>1</td>\n",
       "    </tr>\n",
       "    <tr>\n",
       "      <th>3.071036</th>\n",
       "      <td>1</td>\n",
       "    </tr>\n",
       "    <tr>\n",
       "      <th>12.528528</th>\n",
       "      <td>1</td>\n",
       "    </tr>\n",
       "    <tr>\n",
       "      <th>0.655165</th>\n",
       "      <td>1</td>\n",
       "    </tr>\n",
       "  </tbody>\n",
       "</table>\n",
       "<p>4815 rows × 1 columns</p>\n",
       "</div>"
      ],
      "text/plain": [
       "           count\n",
       "0.000000       5\n",
       "8.035714       2\n",
       "5.176471       2\n",
       "2.760678       2\n",
       "11.306637      1\n",
       "...          ...\n",
       "5.474110       1\n",
       "7.046936       1\n",
       "3.071036       1\n",
       "12.528528      1\n",
       "0.655165       1\n",
       "\n",
       "[4815 rows x 1 columns]"
      ]
     },
     "metadata": {},
     "output_type": "display_data"
    },
    {
     "name": "stdout",
     "output_type": "stream",
     "text": [
      "---------------\n",
      "\n",
      "\n",
      "\n",
      "******************************\n",
      "Summary of Urban_Population\n",
      "******************************\n",
      "Total unique values: 4576\n"
     ]
    },
    {
     "data": {
      "text/html": [
       "<div>\n",
       "<style scoped>\n",
       "    .dataframe tbody tr th:only-of-type {\n",
       "        vertical-align: middle;\n",
       "    }\n",
       "\n",
       "    .dataframe tbody tr th {\n",
       "        vertical-align: top;\n",
       "    }\n",
       "\n",
       "    .dataframe thead th {\n",
       "        text-align: right;\n",
       "    }\n",
       "</style>\n",
       "<table border=\"1\" class=\"dataframe\">\n",
       "  <thead>\n",
       "    <tr style=\"text-align: right;\">\n",
       "      <th></th>\n",
       "      <th>count</th>\n",
       "    </tr>\n",
       "  </thead>\n",
       "  <tbody>\n",
       "    <tr>\n",
       "      <th>100.000</th>\n",
       "      <td>89</td>\n",
       "    </tr>\n",
       "    <tr>\n",
       "      <th>83.100</th>\n",
       "      <td>10</td>\n",
       "    </tr>\n",
       "    <tr>\n",
       "      <th>22.330</th>\n",
       "      <td>6</td>\n",
       "    </tr>\n",
       "    <tr>\n",
       "      <th>74.644</th>\n",
       "      <td>3</td>\n",
       "    </tr>\n",
       "    <tr>\n",
       "      <th>83.143</th>\n",
       "      <td>3</td>\n",
       "    </tr>\n",
       "    <tr>\n",
       "      <th>...</th>\n",
       "      <td>...</td>\n",
       "    </tr>\n",
       "    <tr>\n",
       "      <th>74.286</th>\n",
       "      <td>1</td>\n",
       "    </tr>\n",
       "    <tr>\n",
       "      <th>66.726</th>\n",
       "      <td>1</td>\n",
       "    </tr>\n",
       "    <tr>\n",
       "      <th>70.241</th>\n",
       "      <td>1</td>\n",
       "    </tr>\n",
       "    <tr>\n",
       "      <th>49.683</th>\n",
       "      <td>1</td>\n",
       "    </tr>\n",
       "    <tr>\n",
       "      <th>22.500</th>\n",
       "      <td>1</td>\n",
       "    </tr>\n",
       "  </tbody>\n",
       "</table>\n",
       "<p>4576 rows × 1 columns</p>\n",
       "</div>"
      ],
      "text/plain": [
       "         count\n",
       "100.000     89\n",
       "83.100      10\n",
       "22.330       6\n",
       "74.644       3\n",
       "83.143       3\n",
       "...        ...\n",
       "74.286       1\n",
       "66.726       1\n",
       "70.241       1\n",
       "49.683       1\n",
       "22.500       1\n",
       "\n",
       "[4576 rows x 1 columns]"
      ]
     },
     "metadata": {},
     "output_type": "display_data"
    },
    {
     "name": "stdout",
     "output_type": "stream",
     "text": [
      "---------------\n",
      "\n",
      "\n",
      "\n"
     ]
    }
   ],
   "source": [
    "## Investigate type and prevalence of unique values in each column of social_df\n",
    "for col in list(social_df.columns):\n",
    "    col_summary(social_df, col)\n",
    "    print('---'*5)\n",
    "    print('\\n\\n')"
   ]
  },
  {
   "cell_type": "markdown",
   "metadata": {},
   "source": [
    "This new merged DataFrame now appears to be in good shape and ready for export to csv."
   ]
  },
  {
   "cell_type": "code",
   "execution_count": 21,
   "metadata": {
    "ExecuteTime": {
     "end_time": "2021-04-11T00:47:39.827661Z",
     "start_time": "2021-04-11T00:47:39.825073Z"
    }
   },
   "outputs": [],
   "source": [
    "## Export merged df to csv\n",
    "# social_df.to_csv('merged_social_data.csv', index=False)"
   ]
  },
  {
   "cell_type": "markdown",
   "metadata": {},
   "source": [
    "# Explore Merged Data"
   ]
  },
  {
   "cell_type": "code",
   "execution_count": 22,
   "metadata": {
    "ExecuteTime": {
     "end_time": "2021-04-11T00:47:39.851155Z",
     "start_time": "2021-04-11T00:47:39.830284Z"
    }
   },
   "outputs": [
    {
     "data": {
      "text/html": [
       "<div>\n",
       "<style scoped>\n",
       "    .dataframe tbody tr th:only-of-type {\n",
       "        vertical-align: middle;\n",
       "    }\n",
       "\n",
       "    .dataframe tbody tr th {\n",
       "        vertical-align: top;\n",
       "    }\n",
       "\n",
       "    .dataframe thead th {\n",
       "        text-align: right;\n",
       "    }\n",
       "</style>\n",
       "<table border=\"1\" class=\"dataframe\">\n",
       "  <thead>\n",
       "    <tr style=\"text-align: right;\">\n",
       "      <th></th>\n",
       "      <th>Entity</th>\n",
       "      <th>Code</th>\n",
       "      <th>Year</th>\n",
       "      <th>Tax_Percent_GDP</th>\n",
       "      <th>Urban_Population</th>\n",
       "    </tr>\n",
       "  </thead>\n",
       "  <tbody>\n",
       "    <tr>\n",
       "      <th>0</th>\n",
       "      <td>Afghanistan</td>\n",
       "      <td>AFG</td>\n",
       "      <td>2003</td>\n",
       "      <td>0.165953</td>\n",
       "      <td>22.353</td>\n",
       "    </tr>\n",
       "    <tr>\n",
       "      <th>1</th>\n",
       "      <td>Afghanistan</td>\n",
       "      <td>AFG</td>\n",
       "      <td>2004</td>\n",
       "      <td>0.411647</td>\n",
       "      <td>22.500</td>\n",
       "    </tr>\n",
       "    <tr>\n",
       "      <th>2</th>\n",
       "      <td>Afghanistan</td>\n",
       "      <td>AFG</td>\n",
       "      <td>2006</td>\n",
       "      <td>1.261181</td>\n",
       "      <td>22.907</td>\n",
       "    </tr>\n",
       "    <tr>\n",
       "      <th>3</th>\n",
       "      <td>Afghanistan</td>\n",
       "      <td>AFG</td>\n",
       "      <td>2007</td>\n",
       "      <td>1.323461</td>\n",
       "      <td>23.113</td>\n",
       "    </tr>\n",
       "    <tr>\n",
       "      <th>4</th>\n",
       "      <td>Afghanistan</td>\n",
       "      <td>AFG</td>\n",
       "      <td>2008</td>\n",
       "      <td>1.664719</td>\n",
       "      <td>23.320</td>\n",
       "    </tr>\n",
       "  </tbody>\n",
       "</table>\n",
       "</div>"
      ],
      "text/plain": [
       "        Entity Code  Year  Tax_Percent_GDP  Urban_Population\n",
       "0  Afghanistan  AFG  2003         0.165953            22.353\n",
       "1  Afghanistan  AFG  2004         0.411647            22.500\n",
       "2  Afghanistan  AFG  2006         1.261181            22.907\n",
       "3  Afghanistan  AFG  2007         1.323461            23.113\n",
       "4  Afghanistan  AFG  2008         1.664719            23.320"
      ]
     },
     "execution_count": 22,
     "metadata": {},
     "output_type": "execute_result"
    }
   ],
   "source": [
    "## Read in merged data directly from new file\n",
    "df = pd.read_csv('merged_social_data.csv')\n",
    "df.head()"
   ]
  },
  {
   "cell_type": "markdown",
   "metadata": {},
   "source": [
    "As shown in the plot below, the full dataset produces a very noisy scatter of `Tax_Percent_GDP` against `Urban_Population`. There does appear to be a slight positive trend. Countries with a higher proportion of the population living in urban areas tend to have a higher income tax-to-GDP ratio.\n",
    "\n",
    "Some of the noise in the full dataset can be attributed to the fact that it includes a record (a point on the graph) for multiple years for each country. In fact, this repeated representation of each country in the dataset makes the observations not independent of one another. This violates the Ordinary Least Squares (OLS) regression assumption of independence. In other words, one can expect that a country's urban population is related to its urban population in the previous year. A country's income tax-to-GDP ratio is also not likely to vary drastically from year to year."
   ]
  },
  {
   "cell_type": "code",
   "execution_count": 23,
   "metadata": {
    "ExecuteTime": {
     "end_time": "2021-04-11T00:47:40.828675Z",
     "start_time": "2021-04-11T00:47:39.857448Z"
    },
    "scrolled": false
   },
   "outputs": [
    {
     "data": {
      "image/png": "[encoded data removed]",
      "text/plain": [
       "<Figure size 504x504 with 3 Axes>"
      ]
     },
     "metadata": {
      "needs_background": "light"
     },
     "output_type": "display_data"
    }
   ],
   "source": [
    "g = sns.jointplot(x='Urban_Population', y='Tax_Percent_GDP', data=df, kind='reg', height=7);"
   ]
  },
  {
   "cell_type": "markdown",
   "metadata": {},
   "source": [
    "To avoid violating the assumption of independence, reduce noise in the dataset, and ask a more specific question of the data, we can limit the dataset to the single most recent year with available data. Our question becomes:\n",
    "**How does urban population percentage influence a country's income tax-to-GDP ratio?** By focusing on 2017, our findings will be more relevant to today than they would be if we incorporated data spanning back to 1980. \n",
    "\n",
    "However, this does only leave us with 117 observations."
   ]
  },
  {
   "cell_type": "code",
   "execution_count": 24,
   "metadata": {
    "ExecuteTime": {
     "end_time": "2021-04-11T00:47:40.846083Z",
     "start_time": "2021-04-11T00:47:40.833132Z"
    },
    "scrolled": true
   },
   "outputs": [
    {
     "name": "stdout",
     "output_type": "stream",
     "text": [
      "<class 'pandas.core.frame.DataFrame'>\n",
      "Int64Index: 117 entries, 13 to 4763\n",
      "Data columns (total 5 columns):\n",
      " #   Column            Non-Null Count  Dtype  \n",
      "---  ------            --------------  -----  \n",
      " 0   Entity            117 non-null    object \n",
      " 1   Code              117 non-null    object \n",
      " 2   Year              117 non-null    int64  \n",
      " 3   Tax_Percent_GDP   117 non-null    float64\n",
      " 4   Urban_Population  117 non-null    float64\n",
      "dtypes: float64(2), int64(1), object(2)\n",
      "memory usage: 5.5+ KB\n"
     ]
    }
   ],
   "source": [
    "## Create a DataFrame limited to the year 2017\n",
    "df_2017 = df.loc[df['Year']==2017]\n",
    "df_2017.info()"
   ]
  },
  {
   "cell_type": "markdown",
   "metadata": {},
   "source": [
    "With the reduced dataset, the slight positive relationship between the two variables is still apparent. There appears to be more variation in the dependent variable, `Tax_Percent_GDP`, at higher values of the independent variable, `Urban_Population`. There also appears to be a single outlying country with a `Tax_Percent_GDP` just under 30%."
   ]
  },
  {
   "cell_type": "code",
   "execution_count": 25,
   "metadata": {
    "ExecuteTime": {
     "end_time": "2021-04-11T00:47:41.410126Z",
     "start_time": "2021-04-11T00:47:40.848529Z"
    },
    "scrolled": false
   },
   "outputs": [
    {
     "data": {
      "image/png": "[encoded data removed]",
      "text/plain": [
       "<Figure size 504x504 with 3 Axes>"
      ]
     },
     "metadata": {
      "needs_background": "light"
     },
     "output_type": "display_data"
    }
   ],
   "source": [
    "g = sns.jointplot(x='Urban_Population', y='Tax_Percent_GDP', data=df_2017, kind='reg', height=7);"
   ]
  },
  {
   "cell_type": "code",
   "execution_count": 26,
   "metadata": {
    "ExecuteTime": {
     "end_time": "2021-04-11T00:47:41.417156Z",
     "start_time": "2021-04-11T00:47:41.412433Z"
    }
   },
   "outputs": [
    {
     "name": "stdout",
     "output_type": "stream",
     "text": [
      "Z-score method found 1 outliers.\n"
     ]
    }
   ],
   "source": [
    "## Check for outliers in the dependent variable\n",
    "gdp_outliers = z_outliers(df_2017, 'Tax_Percent_GDP')"
   ]
  },
  {
   "cell_type": "code",
   "execution_count": 27,
   "metadata": {
    "ExecuteTime": {
     "end_time": "2021-04-11T00:47:41.432795Z",
     "start_time": "2021-04-11T00:47:41.420048Z"
    }
   },
   "outputs": [
    {
     "data": {
      "text/html": [
       "<div>\n",
       "<style scoped>\n",
       "    .dataframe tbody tr th:only-of-type {\n",
       "        vertical-align: middle;\n",
       "    }\n",
       "\n",
       "    .dataframe tbody tr th {\n",
       "        vertical-align: top;\n",
       "    }\n",
       "\n",
       "    .dataframe thead th {\n",
       "        text-align: right;\n",
       "    }\n",
       "</style>\n",
       "<table border=\"1\" class=\"dataframe\">\n",
       "  <thead>\n",
       "    <tr style=\"text-align: right;\">\n",
       "      <th></th>\n",
       "      <th>Entity</th>\n",
       "      <th>Code</th>\n",
       "      <th>Year</th>\n",
       "      <th>Tax_Percent_GDP</th>\n",
       "      <th>Urban_Population</th>\n",
       "    </tr>\n",
       "  </thead>\n",
       "  <tbody>\n",
       "    <tr>\n",
       "      <th>1144</th>\n",
       "      <td>Denmark</td>\n",
       "      <td>DNK</td>\n",
       "      <td>2017</td>\n",
       "      <td>28.674118</td>\n",
       "      <td>87.757</td>\n",
       "    </tr>\n",
       "  </tbody>\n",
       "</table>\n",
       "</div>"
      ],
      "text/plain": [
       "       Entity Code  Year  Tax_Percent_GDP  Urban_Population\n",
       "1144  Denmark  DNK  2017        28.674118            87.757"
      ]
     },
     "execution_count": 27,
     "metadata": {},
     "output_type": "execute_result"
    }
   ],
   "source": [
    "## Identify the outlying country\n",
    "df_2017.loc[gdp_outliers]"
   ]
  },
  {
   "cell_type": "markdown",
   "metadata": {},
   "source": [
    "> Denmark is the only outlier (defined as having a z-score more than 3 standard deviations from the mean) in terms of the tax-to-GDP ratio.\n",
    "\n",
    "> There are no outliers for percent urban population."
   ]
  },
  {
   "cell_type": "code",
   "execution_count": 28,
   "metadata": {
    "ExecuteTime": {
     "end_time": "2021-04-11T00:47:41.440511Z",
     "start_time": "2021-04-11T00:47:41.435402Z"
    }
   },
   "outputs": [
    {
     "name": "stdout",
     "output_type": "stream",
     "text": [
      "Z-score method found 0 outliers.\n"
     ]
    }
   ],
   "source": [
    "## Check for outliers in the independent variable\n",
    "popn_outliers = z_outliers(df_2017, 'Urban_Population')"
   ]
  },
  {
   "cell_type": "code",
   "execution_count": 29,
   "metadata": {
    "ExecuteTime": {
     "end_time": "2021-04-11T00:47:41.447005Z",
     "start_time": "2021-04-11T00:47:41.442923Z"
    }
   },
   "outputs": [],
   "source": [
    "## Create a new 2017 DataFrame that excludes the identified outlier\n",
    "df_2017_no_outlier = df_2017[~gdp_outliers]"
   ]
  },
  {
   "cell_type": "code",
   "execution_count": 30,
   "metadata": {
    "ExecuteTime": {
     "end_time": "2021-04-11T00:47:42.025920Z",
     "start_time": "2021-04-11T00:47:41.450394Z"
    }
   },
   "outputs": [
    {
     "data": {
      "image/png": "[encoded data removed]",
      "text/plain": [
       "<Figure size 504x504 with 3 Axes>"
      ]
     },
     "metadata": {
      "needs_background": "light"
     },
     "output_type": "display_data"
    }
   ],
   "source": [
    "g = sns.jointplot(x='Urban_Population', y='Tax_Percent_GDP', data=df_2017_no_outlier, kind='reg', height=7);"
   ]
  },
  {
   "cell_type": "markdown",
   "metadata": {},
   "source": [
    "Neither variable is normally distributed. This may be fine since OLS regression only assumes that the residuals are normally distributed. \n",
    "> `Urban_Population` is almost somewhat uniformly distributed.<br>\n",
    "`Tax_Percent_GDP` is right skewed."
   ]
  },
  {
   "cell_type": "code",
   "execution_count": 31,
   "metadata": {
    "ExecuteTime": {
     "end_time": "2021-04-11T00:47:42.236483Z",
     "start_time": "2021-04-11T00:47:42.028061Z"
    }
   },
   "outputs": [
    {
     "data": {
      "image/png": "[encoded data removed]",
      "text/plain": [
       "<Figure size 432x288 with 1 Axes>"
      ]
     },
     "metadata": {
      "needs_background": "light"
     },
     "output_type": "display_data"
    }
   ],
   "source": [
    "sns.histplot(data=df_2017_no_outlier, x='Urban_Population');"
   ]
  },
  {
   "cell_type": "code",
   "execution_count": 32,
   "metadata": {
    "ExecuteTime": {
     "end_time": "2021-04-11T00:47:42.464188Z",
     "start_time": "2021-04-11T00:47:42.239223Z"
    }
   },
   "outputs": [
    {
     "data": {
      "image/png": "[encoded data removed]",
      "text/plain": [
       "<Figure size 432x288 with 1 Axes>"
      ]
     },
     "metadata": {
      "needs_background": "light"
     },
     "output_type": "display_data"
    }
   ],
   "source": [
    "sns.histplot(df_2017_no_outlier['Tax_Percent_GDP']);"
   ]
  },
  {
   "cell_type": "markdown",
   "metadata": {},
   "source": [
    "# Model"
   ]
  },
  {
   "cell_type": "code",
   "execution_count": 33,
   "metadata": {
    "ExecuteTime": {
     "end_time": "2021-04-11T00:47:42.953813Z",
     "start_time": "2021-04-11T00:47:42.466666Z"
    }
   },
   "outputs": [],
   "source": [
    "import statsmodels.api as sm\n",
    "import statsmodels.formula.api as smf\n",
    "from statsmodels.formula.api import ols"
   ]
  },
  {
   "cell_type": "code",
   "execution_count": 34,
   "metadata": {
    "ExecuteTime": {
     "end_time": "2021-04-11T00:47:42.960724Z",
     "start_time": "2021-04-11T00:47:42.956751Z"
    }
   },
   "outputs": [],
   "source": [
    "## Define target (dependent) variable for models\n",
    "target = 'Tax_Percent_GDP'\n",
    "\n",
    "## Define predictor (independent) variable for models\n",
    "predictor = 'Urban_Population'"
   ]
  },
  {
   "cell_type": "markdown",
   "metadata": {},
   "source": [
    "I built three models for comparison:\n",
    "- One model built with the full dataset\n",
    "- One model built with all data from 2017\n",
    "- One model built with 2017 data, excluding Denmark (outlier for `Tax_Percent_GDP`)\n",
    "\n",
    "The 2017 model with outlier excluded was intended to be the final model and is interpreted at the end of this section. Across all three models, `Urban_Population` had a statistically significant (p-value << 0.01), very slightly positive relationship with `Tax_Percent_GDP`."
   ]
  },
  {
   "cell_type": "markdown",
   "metadata": {},
   "source": [
    "## Model with All Years Included"
   ]
  },
  {
   "cell_type": "code",
   "execution_count": 35,
   "metadata": {
    "ExecuteTime": {
     "end_time": "2021-04-11T00:47:42.996307Z",
     "start_time": "2021-04-11T00:47:42.963353Z"
    }
   },
   "outputs": [
    {
     "data": {
      "text/html": [
       "<table class=\"simpletable\">\n",
       "<caption>OLS Regression Results</caption>\n",
       "<tr>\n",
       "  <th>Dep. Variable:</th>     <td>Tax_Percent_GDP</td> <th>  R-squared:         </th> <td>   0.189</td> \n",
       "</tr>\n",
       "<tr>\n",
       "  <th>Model:</th>                   <td>OLS</td>       <th>  Adj. R-squared:    </th> <td>   0.189</td> \n",
       "</tr>\n",
       "<tr>\n",
       "  <th>Method:</th>             <td>Least Squares</td>  <th>  F-statistic:       </th> <td>   1123.</td> \n",
       "</tr>\n",
       "<tr>\n",
       "  <th>Date:</th>             <td>Sat, 10 Apr 2021</td> <th>  Prob (F-statistic):</th> <td>1.84e-221</td>\n",
       "</tr>\n",
       "<tr>\n",
       "  <th>Time:</th>                 <td>20:47:42</td>     <th>  Log-Likelihood:    </th> <td> -14014.</td> \n",
       "</tr>\n",
       "<tr>\n",
       "  <th>No. Observations:</th>      <td>  4822</td>      <th>  AIC:               </th> <td>2.803e+04</td>\n",
       "</tr>\n",
       "<tr>\n",
       "  <th>Df Residuals:</th>          <td>  4820</td>      <th>  BIC:               </th> <td>2.805e+04</td>\n",
       "</tr>\n",
       "<tr>\n",
       "  <th>Df Model:</th>              <td>     1</td>      <th>                     </th>     <td> </td>    \n",
       "</tr>\n",
       "<tr>\n",
       "  <th>Covariance Type:</th>      <td>nonrobust</td>    <th>                     </th>     <td> </td>    \n",
       "</tr>\n",
       "</table>\n",
       "<table class=\"simpletable\">\n",
       "<tr>\n",
       "          <td></td>            <th>coef</th>     <th>std err</th>      <th>t</th>      <th>P>|t|</th>  <th>[0.025</th>    <th>0.975]</th>  \n",
       "</tr>\n",
       "<tr>\n",
       "  <th>Intercept</th>        <td>    1.7040</td> <td>    0.158</td> <td>   10.797</td> <td> 0.000</td> <td>    1.395</td> <td>    2.013</td>\n",
       "</tr>\n",
       "<tr>\n",
       "  <th>Urban_Population</th> <td>    0.0887</td> <td>    0.003</td> <td>   33.507</td> <td> 0.000</td> <td>    0.083</td> <td>    0.094</td>\n",
       "</tr>\n",
       "</table>\n",
       "<table class=\"simpletable\">\n",
       "<tr>\n",
       "  <th>Omnibus:</th>       <td>888.992</td> <th>  Durbin-Watson:     </th> <td>   0.113</td>\n",
       "</tr>\n",
       "<tr>\n",
       "  <th>Prob(Omnibus):</th> <td> 0.000</td>  <th>  Jarque-Bera (JB):  </th> <td>2177.536</td>\n",
       "</tr>\n",
       "<tr>\n",
       "  <th>Skew:</th>          <td> 1.022</td>  <th>  Prob(JB):          </th> <td>    0.00</td>\n",
       "</tr>\n",
       "<tr>\n",
       "  <th>Kurtosis:</th>      <td> 5.580</td>  <th>  Cond. No.          </th> <td>    148.</td>\n",
       "</tr>\n",
       "</table><br/><br/>Notes:<br/>[1] Standard Errors assume that the covariance matrix of the errors is correctly specified."
      ],
      "text/plain": [
       "<class 'statsmodels.iolib.summary.Summary'>\n",
       "\"\"\"\n",
       "                            OLS Regression Results                            \n",
       "==============================================================================\n",
       "Dep. Variable:        Tax_Percent_GDP   R-squared:                       0.189\n",
       "Model:                            OLS   Adj. R-squared:                  0.189\n",
       "Method:                 Least Squares   F-statistic:                     1123.\n",
       "Date:                Sat, 10 Apr 2021   Prob (F-statistic):          1.84e-221\n",
       "Time:                        20:47:42   Log-Likelihood:                -14014.\n",
       "No. Observations:                4822   AIC:                         2.803e+04\n",
       "Df Residuals:                    4820   BIC:                         2.805e+04\n",
       "Df Model:                           1                                         \n",
       "Covariance Type:            nonrobust                                         \n",
       "====================================================================================\n",
       "                       coef    std err          t      P>|t|      [0.025      0.975]\n",
       "------------------------------------------------------------------------------------\n",
       "Intercept            1.7040      0.158     10.797      0.000       1.395       2.013\n",
       "Urban_Population     0.0887      0.003     33.507      0.000       0.083       0.094\n",
       "==============================================================================\n",
       "Omnibus:                      888.992   Durbin-Watson:                   0.113\n",
       "Prob(Omnibus):                  0.000   Jarque-Bera (JB):             2177.536\n",
       "Skew:                           1.022   Prob(JB):                         0.00\n",
       "Kurtosis:                       5.580   Cond. No.                         148.\n",
       "==============================================================================\n",
       "\n",
       "Notes:\n",
       "[1] Standard Errors assume that the covariance matrix of the errors is correctly specified.\n",
       "\"\"\""
      ]
     },
     "execution_count": 35,
     "metadata": {},
     "output_type": "execute_result"
    }
   ],
   "source": [
    "## Build model on full dataset and check results summary\n",
    "model = build_ols(df, target, predictor)\n",
    "model.summary()"
   ]
  },
  {
   "cell_type": "code",
   "execution_count": 36,
   "metadata": {
    "ExecuteTime": {
     "end_time": "2021-04-11T00:47:43.428059Z",
     "start_time": "2021-04-11T00:47:42.998915Z"
    }
   },
   "outputs": [
    {
     "data": {
      "image/png": "[encoded data removed]",
      "text/plain": [
       "<Figure size 1008x360 with 2 Axes>"
      ]
     },
     "metadata": {
      "needs_background": "light"
     },
     "output_type": "display_data"
    }
   ],
   "source": [
    "## Visualize normality and spread of model residuals\n",
    "check_ols_assumptions(model, df, target)"
   ]
  },
  {
   "cell_type": "markdown",
   "metadata": {},
   "source": [
    "## Models Limited to 2017 Data"
   ]
  },
  {
   "cell_type": "markdown",
   "metadata": {},
   "source": [
    "### Tax_Percent_GDP Outlier (Denmark) Included"
   ]
  },
  {
   "cell_type": "code",
   "execution_count": 37,
   "metadata": {
    "ExecuteTime": {
     "end_time": "2021-04-11T00:47:43.455729Z",
     "start_time": "2021-04-11T00:47:43.430647Z"
    }
   },
   "outputs": [
    {
     "data": {
      "text/html": [
       "<table class=\"simpletable\">\n",
       "<caption>OLS Regression Results</caption>\n",
       "<tr>\n",
       "  <th>Dep. Variable:</th>     <td>Tax_Percent_GDP</td> <th>  R-squared:         </th> <td>   0.154</td>\n",
       "</tr>\n",
       "<tr>\n",
       "  <th>Model:</th>                   <td>OLS</td>       <th>  Adj. R-squared:    </th> <td>   0.146</td>\n",
       "</tr>\n",
       "<tr>\n",
       "  <th>Method:</th>             <td>Least Squares</td>  <th>  F-statistic:       </th> <td>   20.88</td>\n",
       "</tr>\n",
       "<tr>\n",
       "  <th>Date:</th>             <td>Sat, 10 Apr 2021</td> <th>  Prob (F-statistic):</th> <td>1.24e-05</td>\n",
       "</tr>\n",
       "<tr>\n",
       "  <th>Time:</th>                 <td>20:47:43</td>     <th>  Log-Likelihood:    </th> <td> -327.98</td>\n",
       "</tr>\n",
       "<tr>\n",
       "  <th>No. Observations:</th>      <td>   117</td>      <th>  AIC:               </th> <td>   660.0</td>\n",
       "</tr>\n",
       "<tr>\n",
       "  <th>Df Residuals:</th>          <td>   115</td>      <th>  BIC:               </th> <td>   665.5</td>\n",
       "</tr>\n",
       "<tr>\n",
       "  <th>Df Model:</th>              <td>     1</td>      <th>                     </th>     <td> </td>   \n",
       "</tr>\n",
       "<tr>\n",
       "  <th>Covariance Type:</th>      <td>nonrobust</td>    <th>                     </th>     <td> </td>   \n",
       "</tr>\n",
       "</table>\n",
       "<table class=\"simpletable\">\n",
       "<tr>\n",
       "          <td></td>            <th>coef</th>     <th>std err</th>      <th>t</th>      <th>P>|t|</th>  <th>[0.025</th>    <th>0.975]</th>  \n",
       "</tr>\n",
       "<tr>\n",
       "  <th>Intercept</th>        <td>    3.0666</td> <td>    0.999</td> <td>    3.069</td> <td> 0.003</td> <td>    1.087</td> <td>    5.046</td>\n",
       "</tr>\n",
       "<tr>\n",
       "  <th>Urban_Population</th> <td>    0.0714</td> <td>    0.016</td> <td>    4.569</td> <td> 0.000</td> <td>    0.040</td> <td>    0.102</td>\n",
       "</tr>\n",
       "</table>\n",
       "<table class=\"simpletable\">\n",
       "<tr>\n",
       "  <th>Omnibus:</th>       <td>31.612</td> <th>  Durbin-Watson:     </th> <td>   2.171</td>\n",
       "</tr>\n",
       "<tr>\n",
       "  <th>Prob(Omnibus):</th> <td> 0.000</td> <th>  Jarque-Bera (JB):  </th> <td>  87.492</td>\n",
       "</tr>\n",
       "<tr>\n",
       "  <th>Skew:</th>          <td> 0.964</td> <th>  Prob(JB):          </th> <td>1.00e-19</td>\n",
       "</tr>\n",
       "<tr>\n",
       "  <th>Kurtosis:</th>      <td> 6.772</td> <th>  Cond. No.          </th> <td>    172.</td>\n",
       "</tr>\n",
       "</table><br/><br/>Notes:<br/>[1] Standard Errors assume that the covariance matrix of the errors is correctly specified."
      ],
      "text/plain": [
       "<class 'statsmodels.iolib.summary.Summary'>\n",
       "\"\"\"\n",
       "                            OLS Regression Results                            \n",
       "==============================================================================\n",
       "Dep. Variable:        Tax_Percent_GDP   R-squared:                       0.154\n",
       "Model:                            OLS   Adj. R-squared:                  0.146\n",
       "Method:                 Least Squares   F-statistic:                     20.88\n",
       "Date:                Sat, 10 Apr 2021   Prob (F-statistic):           1.24e-05\n",
       "Time:                        20:47:43   Log-Likelihood:                -327.98\n",
       "No. Observations:                 117   AIC:                             660.0\n",
       "Df Residuals:                     115   BIC:                             665.5\n",
       "Df Model:                           1                                         \n",
       "Covariance Type:            nonrobust                                         \n",
       "====================================================================================\n",
       "                       coef    std err          t      P>|t|      [0.025      0.975]\n",
       "------------------------------------------------------------------------------------\n",
       "Intercept            3.0666      0.999      3.069      0.003       1.087       5.046\n",
       "Urban_Population     0.0714      0.016      4.569      0.000       0.040       0.102\n",
       "==============================================================================\n",
       "Omnibus:                       31.612   Durbin-Watson:                   2.171\n",
       "Prob(Omnibus):                  0.000   Jarque-Bera (JB):               87.492\n",
       "Skew:                           0.964   Prob(JB):                     1.00e-19\n",
       "Kurtosis:                       6.772   Cond. No.                         172.\n",
       "==============================================================================\n",
       "\n",
       "Notes:\n",
       "[1] Standard Errors assume that the covariance matrix of the errors is correctly specified.\n",
       "\"\"\""
      ]
     },
     "execution_count": 37,
     "metadata": {},
     "output_type": "execute_result"
    }
   ],
   "source": [
    "## Build model on all 2017 data and check results summary\n",
    "model = build_ols(df_2017, target, predictor)\n",
    "model.summary()"
   ]
  },
  {
   "cell_type": "code",
   "execution_count": 38,
   "metadata": {
    "ExecuteTime": {
     "end_time": "2021-04-11T00:47:43.893151Z",
     "start_time": "2021-04-11T00:47:43.458170Z"
    }
   },
   "outputs": [
    {
     "data": {
      "image/png": "[encoded data removed]",
      "text/plain": [
       "<Figure size 1008x360 with 2 Axes>"
      ]
     },
     "metadata": {
      "needs_background": "light"
     },
     "output_type": "display_data"
    }
   ],
   "source": [
    "## Visualize normality and spread of model residuals\n",
    "check_ols_assumptions(model, df_2017, target)"
   ]
  },
  {
   "cell_type": "markdown",
   "metadata": {},
   "source": [
    "### Tax_Percent_GDP Outlier (Denmark) Excluded"
   ]
  },
  {
   "cell_type": "code",
   "execution_count": 39,
   "metadata": {
    "ExecuteTime": {
     "end_time": "2021-04-11T00:47:43.917463Z",
     "start_time": "2021-04-11T00:47:43.895584Z"
    }
   },
   "outputs": [
    {
     "data": {
      "text/html": [
       "<table class=\"simpletable\">\n",
       "<caption>OLS Regression Results</caption>\n",
       "<tr>\n",
       "  <th>Dep. Variable:</th>     <td>Tax_Percent_GDP</td> <th>  R-squared:         </th> <td>   0.149</td>\n",
       "</tr>\n",
       "<tr>\n",
       "  <th>Model:</th>                   <td>OLS</td>       <th>  Adj. R-squared:    </th> <td>   0.142</td>\n",
       "</tr>\n",
       "<tr>\n",
       "  <th>Method:</th>             <td>Least Squares</td>  <th>  F-statistic:       </th> <td>   19.99</td>\n",
       "</tr>\n",
       "<tr>\n",
       "  <th>Date:</th>             <td>Sat, 10 Apr 2021</td> <th>  Prob (F-statistic):</th> <td>1.85e-05</td>\n",
       "</tr>\n",
       "<tr>\n",
       "  <th>Time:</th>                 <td>20:47:43</td>     <th>  Log-Likelihood:    </th> <td> -312.37</td>\n",
       "</tr>\n",
       "<tr>\n",
       "  <th>No. Observations:</th>      <td>   116</td>      <th>  AIC:               </th> <td>   628.7</td>\n",
       "</tr>\n",
       "<tr>\n",
       "  <th>Df Residuals:</th>          <td>   114</td>      <th>  BIC:               </th> <td>   634.3</td>\n",
       "</tr>\n",
       "<tr>\n",
       "  <th>Df Model:</th>              <td>     1</td>      <th>                     </th>     <td> </td>   \n",
       "</tr>\n",
       "<tr>\n",
       "  <th>Covariance Type:</th>      <td>nonrobust</td>    <th>                     </th>     <td> </td>   \n",
       "</tr>\n",
       "</table>\n",
       "<table class=\"simpletable\">\n",
       "<tr>\n",
       "          <td></td>            <th>coef</th>     <th>std err</th>      <th>t</th>      <th>P>|t|</th>  <th>[0.025</th>    <th>0.975]</th>  \n",
       "</tr>\n",
       "<tr>\n",
       "  <th>Intercept</th>        <td>    3.3988</td> <td>    0.897</td> <td>    3.789</td> <td> 0.000</td> <td>    1.622</td> <td>    5.176</td>\n",
       "</tr>\n",
       "<tr>\n",
       "  <th>Urban_Population</th> <td>    0.0629</td> <td>    0.014</td> <td>    4.471</td> <td> 0.000</td> <td>    0.035</td> <td>    0.091</td>\n",
       "</tr>\n",
       "</table>\n",
       "<table class=\"simpletable\">\n",
       "<tr>\n",
       "  <th>Omnibus:</th>       <td> 1.625</td> <th>  Durbin-Watson:     </th> <td>   2.090</td>\n",
       "</tr>\n",
       "<tr>\n",
       "  <th>Prob(Omnibus):</th> <td> 0.444</td> <th>  Jarque-Bera (JB):  </th> <td>   1.165</td>\n",
       "</tr>\n",
       "<tr>\n",
       "  <th>Skew:</th>          <td> 0.219</td> <th>  Prob(JB):          </th> <td>   0.558</td>\n",
       "</tr>\n",
       "<tr>\n",
       "  <th>Kurtosis:</th>      <td> 3.222</td> <th>  Cond. No.          </th> <td>    171.</td>\n",
       "</tr>\n",
       "</table><br/><br/>Notes:<br/>[1] Standard Errors assume that the covariance matrix of the errors is correctly specified."
      ],
      "text/plain": [
       "<class 'statsmodels.iolib.summary.Summary'>\n",
       "\"\"\"\n",
       "                            OLS Regression Results                            \n",
       "==============================================================================\n",
       "Dep. Variable:        Tax_Percent_GDP   R-squared:                       0.149\n",
       "Model:                            OLS   Adj. R-squared:                  0.142\n",
       "Method:                 Least Squares   F-statistic:                     19.99\n",
       "Date:                Sat, 10 Apr 2021   Prob (F-statistic):           1.85e-05\n",
       "Time:                        20:47:43   Log-Likelihood:                -312.37\n",
       "No. Observations:                 116   AIC:                             628.7\n",
       "Df Residuals:                     114   BIC:                             634.3\n",
       "Df Model:                           1                                         \n",
       "Covariance Type:            nonrobust                                         \n",
       "====================================================================================\n",
       "                       coef    std err          t      P>|t|      [0.025      0.975]\n",
       "------------------------------------------------------------------------------------\n",
       "Intercept            3.3988      0.897      3.789      0.000       1.622       5.176\n",
       "Urban_Population     0.0629      0.014      4.471      0.000       0.035       0.091\n",
       "==============================================================================\n",
       "Omnibus:                        1.625   Durbin-Watson:                   2.090\n",
       "Prob(Omnibus):                  0.444   Jarque-Bera (JB):                1.165\n",
       "Skew:                           0.219   Prob(JB):                        0.558\n",
       "Kurtosis:                       3.222   Cond. No.                         171.\n",
       "==============================================================================\n",
       "\n",
       "Notes:\n",
       "[1] Standard Errors assume that the covariance matrix of the errors is correctly specified.\n",
       "\"\"\""
      ]
     },
     "execution_count": 39,
     "metadata": {},
     "output_type": "execute_result"
    }
   ],
   "source": [
    "## Build model on 2017 data with single GDP outlier excluded and check results summary\n",
    "model = build_ols(df_2017_no_outlier, target, predictor)\n",
    "model.summary()"
   ]
  },
  {
   "cell_type": "code",
   "execution_count": 40,
   "metadata": {
    "ExecuteTime": {
     "end_time": "2021-04-11T00:47:44.276334Z",
     "start_time": "2021-04-11T00:47:43.919841Z"
    }
   },
   "outputs": [
    {
     "data": {
      "image/png": "[encoded data removed]",
      "text/plain": [
       "<Figure size 1008x360 with 2 Axes>"
      ]
     },
     "metadata": {
      "needs_background": "light"
     },
     "output_type": "display_data"
    }
   ],
   "source": [
    "## Visualize normality and spread of model residuals\n",
    "check_ols_assumptions(model, df_2017_no_outlier, target);"
   ]
  },
  {
   "cell_type": "markdown",
   "metadata": {},
   "source": [
    "Before digging into the model statistics, it should be noted that the parameter estimates of the model (the coefficient and intercept) are only a good fit to the data if the model residuals meet the assumptions of OLS regression. The plots above visualize the distribution of model residuals. \n",
    "\n",
    "The Q-Q plot on the left indicates that the residuals are relatively normally distributed. \n",
    "\n",
    "However, the second plot shows that the assumption of residual homoscedasticity is violated. The spread of the residual values plotted against the model's fitted values (the `Tax_Percent_GDP` estimates output by the model) exhibits a clear pattern. Specifically, there is greater spread (more variation) at higher fitted values. Ideally we would see a random scatter of points above and below the red line across the range of fitted values. Thus, the chosen model does not fit the data very well and I am not confident in the parameter estimates of the model or in the R-squared value.\n",
    "\n",
    "Both the intercept and the coefficient of the independent variable are statistically significant. However, the coefficient for `Urban_Population` is very small. Since neither the independent nor dependent variable has been transformed, the coefficient of 0.0629 suggests that for a one unit (percentage point) increase in `Urban_Population`, `Tax_Percent_GDP` tends to increase by about 0.0629 percentage points. Thus, the relationship is statistically significant, but the actual effect size is relatively small.\n",
    "\n",
    "The R-squared value for the model is 0.149, so `Urban_Population` is explaining about 14.9% of the variance in `Tax_Percent_GDP`.\n",
    "\n",
    "On its own, the proportion of a country's total population living in urban areas does not perform very well for explaining variation in the income tax-to-GDP ratio of a country."
   ]
  },
  {
   "cell_type": "code",
   "execution_count": 41,
   "metadata": {
    "ExecuteTime": {
     "end_time": "2021-04-11T00:47:44.511732Z",
     "start_time": "2021-04-11T00:47:44.278438Z"
    },
    "scrolled": false
   },
   "outputs": [
    {
     "data": {
      "image/png": "[encoded data removed]",
      "text/plain": [
       "<Figure size 504x432 with 1 Axes>"
      ]
     },
     "metadata": {
      "needs_background": "light"
     },
     "output_type": "display_data"
    }
   ],
   "source": [
    "## Create plots of regression model formatted for memo\n",
    "plt.figure(figsize=(7,6))\n",
    "ax = sns.scatterplot(x='Urban_Population', y='Tax_Percent_GDP',\n",
    "                     data=df_2017_no_outlier, color='b')\n",
    "ax.axline((0,3.3988), slope=0.0629, c='k', ls='--', lw=3.5, label='y = 0.06x + 3.40')\n",
    "ax.set_title('Income Tax-to-GDP Ratio Increases\\n with Urban Population', weight='bold', fontsize='x-large')\n",
    "ax.set_xlabel('Urban Population (%)', weight='bold', fontsize='large')\n",
    "ax.set_ylabel('Income Tax-to-GDP Ratio', weight='bold', fontsize='large')\n",
    "ax.legend(fontsize='large', loc='best', bbox_to_anchor=(0.45,0.9));"
   ]
  },
  {
   "cell_type": "code",
   "execution_count": 42,
   "metadata": {
    "ExecuteTime": {
     "end_time": "2021-04-11T00:47:44.907077Z",
     "start_time": "2021-04-11T00:47:44.514219Z"
    },
    "scrolled": true
   },
   "outputs": [
    {
     "data": {
      "image/png": "[encoded data removed]",
      "text/plain": [
       "<Figure size 1008x360 with 2 Axes>"
      ]
     },
     "metadata": {
      "needs_background": "light"
     },
     "output_type": "display_data"
    }
   ],
   "source": [
    "## Create plots of variable distributions formatted for memo\n",
    "fig, ax = plt.subplots(ncols=2,figsize=(14,5))\n",
    "ax1 = ax[0]\n",
    "ax2 = ax[1]\n",
    "\n",
    "sns.histplot(data=df_2017_no_outlier, x='Tax_Percent_GDP', ax=ax1)\n",
    "ax1.set_title('Distribution of Income Tax-to-GDP Ratio', weight='bold', fontsize='x-large')\n",
    "ax1.set_xlabel('Income Tax-to-GDP Ratio', weight='bold', fontsize='large')\n",
    "ax1.set_ylabel('Count', weight='bold', fontsize='large')\n",
    "\n",
    "sns.histplot(data=df_2017_no_outlier, x='Urban_Population', ax=ax2)\n",
    "ax2.set_title('Distribution of Urban Population', weight='bold', fontsize='x-large')\n",
    "ax2.set_xlabel('Urban Population (%)', weight='bold', fontsize='large')\n",
    "ax2.set_ylabel('Count', weight='bold', fontsize='large');"
   ]
  }
 ],
 "metadata": {
  "kernelspec": {
   "display_name": "Python 3",
   "language": "python",
   "name": "python3"
  },
  "language_info": {
   "codemirror_mode": {
    "name": "ipython",
    "version": 3
   },
   "file_extension": ".py",
   "mimetype": "text/x-python",
   "name": "python",
   "nbconvert_exporter": "python",
   "pygments_lexer": "ipython3",
   "version": "3.6.9"
  },
  "toc": {
   "base_numbering": 1,
   "nav_menu": {},
   "number_sections": true,
   "sideBar": true,
   "skip_h1_title": false,
   "title_cell": "Table of Contents",
   "title_sidebar": "Contents",
   "toc_cell": false,
   "toc_position": {},
   "toc_section_display": true,
   "toc_window_display": true
  }
 },
 "nbformat": 4,
 "nbformat_minor": 2
}

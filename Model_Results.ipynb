{
 "cells": [
  {
   "cell_type": "markdown",
   "metadata": {},
   "source": [
    "# Model_Results\n",
    "By Max Steele"
   ]
  },
  {
   "cell_type": "code",
   "execution_count": 1,
   "metadata": {
    "ExecuteTime": {
     "end_time": "2021-04-10T00:33:30.402247Z",
     "start_time": "2021-04-10T00:33:29.105285Z"
    }
   },
   "outputs": [],
   "source": [
    "## Import libraries\n",
    "import numpy as np\n",
    "import pandas as pd\n",
    "import matplotlib.pyplot as plt\n",
    "%matplotlib inline\n",
    "import seaborn as sns\n",
    "from scipy import stats"
   ]
  },
  {
   "cell_type": "markdown",
   "metadata": {},
   "source": [
    "# Custom Functions for Producing Models and Results"
   ]
  },
  {
   "cell_type": "code",
   "execution_count": 2,
   "metadata": {
    "ExecuteTime": {
     "end_time": "2021-04-10T00:33:30.410763Z",
     "start_time": "2021-04-10T00:33:30.405306Z"
    }
   },
   "outputs": [],
   "source": [
    "def z_outliers(df, col, cutoff=3, verbose=True):\n",
    "    \n",
    "    \"\"\"Takes in a DataFrame and column name to calculate the\n",
    "    absolute value of the z-score for each observation. \n",
    "    Returns a Series with the same index as the data with True \n",
    "    if the observation is an outlier (defined as having a z-score \n",
    "    of 3 standard deviations [default] from the mean) or False if\n",
    "    the observation is not an outlier.\"\"\"\n",
    "    \n",
    "    z_scores = np.abs(stats.zscore(df[col]))\n",
    "    z_scores = pd.Series(z_scores, index=df[col].index)\n",
    "    idx_outliers = z_scores > cutoff\n",
    "    \n",
    "    if verbose:\n",
    "        print('Z-score method found {} outliers.'.format(idx_outliers.sum()))\n",
    "    \n",
    "    return idx_outliers"
   ]
  },
  {
   "cell_type": "code",
   "execution_count": 3,
   "metadata": {
    "ExecuteTime": {
     "end_time": "2021-04-10T00:33:30.425287Z",
     "start_time": "2021-04-10T00:33:30.413731Z"
    }
   },
   "outputs": [],
   "source": [
    "def build_ols(df, target, predictor):\n",
    "    \n",
    "    \"\"\"Takes in a DataFrame and column names of the target variable and predictor.\n",
    "       Returns a Statsmodels OLS regression model.\"\"\"\n",
    "    \n",
    "    formula = target + '~' + predictor\n",
    "    model = ols(formula=formula, data=df).fit()\n",
    "    \n",
    "    return model"
   ]
  },
  {
   "cell_type": "code",
   "execution_count": 4,
   "metadata": {
    "ExecuteTime": {
     "end_time": "2021-04-10T00:33:30.435511Z",
     "start_time": "2021-04-10T00:33:30.428642Z"
    }
   },
   "outputs": [],
   "source": [
    "def check_ols_assumptions(model, df, target):\n",
    "    \n",
    "    \"\"\"Takes in a Statsmodel OLS regression model, the DataFrame from which that model was generated,\n",
    "       and the target variable of that model as a string (needs to be a column name in data).\n",
    "       Returns a Q-Q plot of the residuals as well as a plot of the residuals against the target\n",
    "       variable to vizualize homoscedasticity of model errors.\"\"\"\n",
    "    \n",
    "    fig, ax = plt.subplots(ncols=2,figsize=(14,5))\n",
    "    ax1 = ax[0]\n",
    "    ax2 = ax[1]\n",
    "\n",
    "    sm.graphics.qqplot(model.resid, fit=True, line='45', ax=ax1, color='b')\n",
    "    ax1.set_title('Q-Q Plot of Model Residuals', weight='bold', fontsize='x-large')\n",
    "    ax1.set_xlabel(ax1.get_xlabel(), weight='bold')\n",
    "    ax1.set_ylabel(ax1.get_ylabel(), weight='bold')\n",
    "\n",
    "    sns.scatterplot(x=df[target], y=model.resid, ax=ax2, color='b')\n",
    "    ax2.axhline(y=0, color='r')\n",
    "    ax2.set_title('Homoscedasticity of Model Residuals', weight='bold', fontsize='x-large')\n",
    "    ax2.set_xlabel(ax2.get_xlabel(), weight='bold')\n",
    "    ax2.set_ylabel('Residual Value', weight='bold')\n",
    "    \n",
    "    return plt.show()"
   ]
  },
  {
   "cell_type": "markdown",
   "metadata": {},
   "source": [
    "# Load Data"
   ]
  },
  {
   "cell_type": "code",
   "execution_count": 5,
   "metadata": {
    "ExecuteTime": {
     "end_time": "2021-04-10T00:33:30.458806Z",
     "start_time": "2021-04-10T00:33:30.437422Z"
    }
   },
   "outputs": [
    {
     "data": {
      "text/html": [
       "<div>\n",
       "<style scoped>\n",
       "    .dataframe tbody tr th:only-of-type {\n",
       "        vertical-align: middle;\n",
       "    }\n",
       "\n",
       "    .dataframe tbody tr th {\n",
       "        vertical-align: top;\n",
       "    }\n",
       "\n",
       "    .dataframe thead th {\n",
       "        text-align: right;\n",
       "    }\n",
       "</style>\n",
       "<table border=\"1\" class=\"dataframe\">\n",
       "  <thead>\n",
       "    <tr style=\"text-align: right;\">\n",
       "      <th></th>\n",
       "      <th>Entity</th>\n",
       "      <th>Code</th>\n",
       "      <th>Year</th>\n",
       "      <th>Tax_Percent_GDP</th>\n",
       "      <th>Urban_Population</th>\n",
       "    </tr>\n",
       "  </thead>\n",
       "  <tbody>\n",
       "    <tr>\n",
       "      <th>0</th>\n",
       "      <td>Afghanistan</td>\n",
       "      <td>AFG</td>\n",
       "      <td>2003</td>\n",
       "      <td>0.165953</td>\n",
       "      <td>22.353</td>\n",
       "    </tr>\n",
       "    <tr>\n",
       "      <th>1</th>\n",
       "      <td>Afghanistan</td>\n",
       "      <td>AFG</td>\n",
       "      <td>2004</td>\n",
       "      <td>0.411647</td>\n",
       "      <td>22.500</td>\n",
       "    </tr>\n",
       "    <tr>\n",
       "      <th>2</th>\n",
       "      <td>Afghanistan</td>\n",
       "      <td>AFG</td>\n",
       "      <td>2006</td>\n",
       "      <td>1.261181</td>\n",
       "      <td>22.907</td>\n",
       "    </tr>\n",
       "    <tr>\n",
       "      <th>3</th>\n",
       "      <td>Afghanistan</td>\n",
       "      <td>AFG</td>\n",
       "      <td>2007</td>\n",
       "      <td>1.323461</td>\n",
       "      <td>23.113</td>\n",
       "    </tr>\n",
       "    <tr>\n",
       "      <th>4</th>\n",
       "      <td>Afghanistan</td>\n",
       "      <td>AFG</td>\n",
       "      <td>2008</td>\n",
       "      <td>1.664719</td>\n",
       "      <td>23.320</td>\n",
       "    </tr>\n",
       "  </tbody>\n",
       "</table>\n",
       "</div>"
      ],
      "text/plain": [
       "        Entity Code  Year  Tax_Percent_GDP  Urban_Population\n",
       "0  Afghanistan  AFG  2003         0.165953            22.353\n",
       "1  Afghanistan  AFG  2004         0.411647            22.500\n",
       "2  Afghanistan  AFG  2006         1.261181            22.907\n",
       "3  Afghanistan  AFG  2007         1.323461            23.113\n",
       "4  Afghanistan  AFG  2008         1.664719            23.320"
      ]
     },
     "execution_count": 5,
     "metadata": {},
     "output_type": "execute_result"
    }
   ],
   "source": [
    "## Read in merged data directly from file\n",
    "df = pd.read_csv('merged_social_data.csv')\n",
    "df.head()"
   ]
  },
  {
   "cell_type": "code",
   "execution_count": 6,
   "metadata": {
    "ExecuteTime": {
     "end_time": "2021-04-10T00:33:30.472397Z",
     "start_time": "2021-04-10T00:33:30.461131Z"
    },
    "scrolled": true
   },
   "outputs": [
    {
     "name": "stdout",
     "output_type": "stream",
     "text": [
      "<class 'pandas.core.frame.DataFrame'>\n",
      "Int64Index: 117 entries, 13 to 4763\n",
      "Data columns (total 5 columns):\n",
      " #   Column            Non-Null Count  Dtype  \n",
      "---  ------            --------------  -----  \n",
      " 0   Entity            117 non-null    object \n",
      " 1   Code              117 non-null    object \n",
      " 2   Year              117 non-null    int64  \n",
      " 3   Tax_Percent_GDP   117 non-null    float64\n",
      " 4   Urban_Population  117 non-null    float64\n",
      "dtypes: float64(2), int64(1), object(2)\n",
      "memory usage: 5.5+ KB\n"
     ]
    }
   ],
   "source": [
    "## Create a DataFrame limited to the year 2017\n",
    "df_2017 = df.loc[df['Year']==2017]\n",
    "df_2017.info()"
   ]
  },
  {
   "cell_type": "code",
   "execution_count": 7,
   "metadata": {
    "ExecuteTime": {
     "end_time": "2021-04-10T00:33:30.477715Z",
     "start_time": "2021-04-10T00:33:30.473971Z"
    }
   },
   "outputs": [
    {
     "name": "stdout",
     "output_type": "stream",
     "text": [
      "Z-score method found 1 outliers.\n"
     ]
    }
   ],
   "source": [
    "## Check for outliers in the dependent variable\n",
    "gdp_outliers = z_outliers(df_2017, 'Tax_Percent_GDP')"
   ]
  },
  {
   "cell_type": "code",
   "execution_count": 8,
   "metadata": {
    "ExecuteTime": {
     "end_time": "2021-04-10T00:33:30.484006Z",
     "start_time": "2021-04-10T00:33:30.480548Z"
    }
   },
   "outputs": [],
   "source": [
    "## Create a new 2017 DataFrame that excludes the identified outlier\n",
    "df_2017_no_outlier = df_2017[~gdp_outliers]"
   ]
  },
  {
   "cell_type": "markdown",
   "metadata": {},
   "source": [
    "# Final Model Results"
   ]
  },
  {
   "cell_type": "code",
   "execution_count": 9,
   "metadata": {
    "ExecuteTime": {
     "end_time": "2021-04-10T00:33:31.046727Z",
     "start_time": "2021-04-10T00:33:30.486933Z"
    }
   },
   "outputs": [],
   "source": [
    "import statsmodels.api as sm\n",
    "import statsmodels.formula.api as smf\n",
    "from statsmodels.formula.api import ols"
   ]
  },
  {
   "cell_type": "code",
   "execution_count": 10,
   "metadata": {
    "ExecuteTime": {
     "end_time": "2021-04-10T00:33:31.052067Z",
     "start_time": "2021-04-10T00:33:31.049467Z"
    }
   },
   "outputs": [],
   "source": [
    "## Define target (dependent) variable\n",
    "target = 'Tax_Percent_GDP'\n",
    "\n",
    "## Define predictor (independent) variable\n",
    "predictor = 'Urban_Population'"
   ]
  },
  {
   "cell_type": "markdown",
   "metadata": {},
   "source": [
    "### Tax_Percent_GDP Outlier (Denmark) Excluded"
   ]
  },
  {
   "cell_type": "code",
   "execution_count": 11,
   "metadata": {
    "ExecuteTime": {
     "end_time": "2021-04-10T00:33:31.076614Z",
     "start_time": "2021-04-10T00:33:31.054853Z"
    }
   },
   "outputs": [
    {
     "data": {
      "text/html": [
       "<table class=\"simpletable\">\n",
       "<caption>OLS Regression Results</caption>\n",
       "<tr>\n",
       "  <th>Dep. Variable:</th>     <td>Tax_Percent_GDP</td> <th>  R-squared:         </th> <td>   0.149</td>\n",
       "</tr>\n",
       "<tr>\n",
       "  <th>Model:</th>                   <td>OLS</td>       <th>  Adj. R-squared:    </th> <td>   0.142</td>\n",
       "</tr>\n",
       "<tr>\n",
       "  <th>Method:</th>             <td>Least Squares</td>  <th>  F-statistic:       </th> <td>   19.99</td>\n",
       "</tr>\n",
       "<tr>\n",
       "  <th>Date:</th>             <td>Fri, 09 Apr 2021</td> <th>  Prob (F-statistic):</th> <td>1.85e-05</td>\n",
       "</tr>\n",
       "<tr>\n",
       "  <th>Time:</th>                 <td>20:33:31</td>     <th>  Log-Likelihood:    </th> <td> -312.37</td>\n",
       "</tr>\n",
       "<tr>\n",
       "  <th>No. Observations:</th>      <td>   116</td>      <th>  AIC:               </th> <td>   628.7</td>\n",
       "</tr>\n",
       "<tr>\n",
       "  <th>Df Residuals:</th>          <td>   114</td>      <th>  BIC:               </th> <td>   634.3</td>\n",
       "</tr>\n",
       "<tr>\n",
       "  <th>Df Model:</th>              <td>     1</td>      <th>                     </th>     <td> </td>   \n",
       "</tr>\n",
       "<tr>\n",
       "  <th>Covariance Type:</th>      <td>nonrobust</td>    <th>                     </th>     <td> </td>   \n",
       "</tr>\n",
       "</table>\n",
       "<table class=\"simpletable\">\n",
       "<tr>\n",
       "          <td></td>            <th>coef</th>     <th>std err</th>      <th>t</th>      <th>P>|t|</th>  <th>[0.025</th>    <th>0.975]</th>  \n",
       "</tr>\n",
       "<tr>\n",
       "  <th>Intercept</th>        <td>    3.3988</td> <td>    0.897</td> <td>    3.789</td> <td> 0.000</td> <td>    1.622</td> <td>    5.176</td>\n",
       "</tr>\n",
       "<tr>\n",
       "  <th>Urban_Population</th> <td>    0.0629</td> <td>    0.014</td> <td>    4.471</td> <td> 0.000</td> <td>    0.035</td> <td>    0.091</td>\n",
       "</tr>\n",
       "</table>\n",
       "<table class=\"simpletable\">\n",
       "<tr>\n",
       "  <th>Omnibus:</th>       <td> 1.625</td> <th>  Durbin-Watson:     </th> <td>   2.090</td>\n",
       "</tr>\n",
       "<tr>\n",
       "  <th>Prob(Omnibus):</th> <td> 0.444</td> <th>  Jarque-Bera (JB):  </th> <td>   1.165</td>\n",
       "</tr>\n",
       "<tr>\n",
       "  <th>Skew:</th>          <td> 0.219</td> <th>  Prob(JB):          </th> <td>   0.558</td>\n",
       "</tr>\n",
       "<tr>\n",
       "  <th>Kurtosis:</th>      <td> 3.222</td> <th>  Cond. No.          </th> <td>    171.</td>\n",
       "</tr>\n",
       "</table><br/><br/>Notes:<br/>[1] Standard Errors assume that the covariance matrix of the errors is correctly specified."
      ],
      "text/plain": [
       "<class 'statsmodels.iolib.summary.Summary'>\n",
       "\"\"\"\n",
       "                            OLS Regression Results                            \n",
       "==============================================================================\n",
       "Dep. Variable:        Tax_Percent_GDP   R-squared:                       0.149\n",
       "Model:                            OLS   Adj. R-squared:                  0.142\n",
       "Method:                 Least Squares   F-statistic:                     19.99\n",
       "Date:                Fri, 09 Apr 2021   Prob (F-statistic):           1.85e-05\n",
       "Time:                        20:33:31   Log-Likelihood:                -312.37\n",
       "No. Observations:                 116   AIC:                             628.7\n",
       "Df Residuals:                     114   BIC:                             634.3\n",
       "Df Model:                           1                                         \n",
       "Covariance Type:            nonrobust                                         \n",
       "====================================================================================\n",
       "                       coef    std err          t      P>|t|      [0.025      0.975]\n",
       "------------------------------------------------------------------------------------\n",
       "Intercept            3.3988      0.897      3.789      0.000       1.622       5.176\n",
       "Urban_Population     0.0629      0.014      4.471      0.000       0.035       0.091\n",
       "==============================================================================\n",
       "Omnibus:                        1.625   Durbin-Watson:                   2.090\n",
       "Prob(Omnibus):                  0.444   Jarque-Bera (JB):                1.165\n",
       "Skew:                           0.219   Prob(JB):                        0.558\n",
       "Kurtosis:                       3.222   Cond. No.                         171.\n",
       "==============================================================================\n",
       "\n",
       "Notes:\n",
       "[1] Standard Errors assume that the covariance matrix of the errors is correctly specified.\n",
       "\"\"\""
      ]
     },
     "execution_count": 11,
     "metadata": {},
     "output_type": "execute_result"
    }
   ],
   "source": [
    "## Build model on 2017 data with single GDP outlier excluded and check results summary\n",
    "model = build_ols(df_2017_no_outlier, target, predictor)\n",
    "model.summary()"
   ]
  },
  {
   "cell_type": "markdown",
   "metadata": {},
   "source": [
    "Both the intercept and the coefficient of the independent variable are statistically significant. However, the coefficient for `Urban_Population` is very small. Since neither the independent nor dependent variable has been transformed, the coefficient of 0.0629 suggests that for a one unit (percentage point) increase in `Urban_Population`, `Tax_Percent_GDP` tends to increase by about 0.0629 percentage points. Thus, the relationship is statistically significant, but the actual effect size is relatively tiny.\n",
    "\n",
    "The plots below visualize the distribution of model residuals. The Q-Q plot indicates that the model residuals are relatively normally distributed. However, the assumption of residual homoscedasticity is violated because residual values exhibit a clear pattern of increase with increasing `Tax_Percent_GDP`. Ideally we would see a random scatter of points above and below the red line across all values of the dependent variable."
   ]
  },
  {
   "cell_type": "code",
   "execution_count": 12,
   "metadata": {
    "ExecuteTime": {
     "end_time": "2021-04-10T00:33:31.421529Z",
     "start_time": "2021-04-10T00:33:31.078531Z"
    },
    "scrolled": true
   },
   "outputs": [
    {
     "data": {
      "image/png": "[encoded data removed]",
      "text/plain": [
       "<Figure size 1008x360 with 2 Axes>"
      ]
     },
     "metadata": {
      "needs_background": "light"
     },
     "output_type": "display_data"
    }
   ],
   "source": [
    "## Visualize normality and spread of model residuals\n",
    "check_ols_assumptions(model, df_2017_no_outlier, target)"
   ]
  }
 ],
 "metadata": {
  "kernelspec": {
   "display_name": "Python 3",
   "language": "python",
   "name": "python3"
  },
  "language_info": {
   "codemirror_mode": {
    "name": "ipython",
    "version": 3
   },
   "file_extension": ".py",
   "mimetype": "text/x-python",
   "name": "python",
   "nbconvert_exporter": "python",
   "pygments_lexer": "ipython3",
   "version": "3.6.9"
  },
  "toc": {
   "base_numbering": 1,
   "nav_menu": {},
   "number_sections": true,
   "sideBar": true,
   "skip_h1_title": false,
   "title_cell": "Table of Contents",
   "title_sidebar": "Contents",
   "toc_cell": false,
   "toc_position": {},
   "toc_section_display": true,
   "toc_window_display": true
  }
 },
 "nbformat": 4,
 "nbformat_minor": 2
}
